{
 "cells": [
  {
   "cell_type": "code",
   "execution_count": 21,
   "id": "e51c7e4e",
   "metadata": {},
   "outputs": [],
   "source": [
    "## Library import\n",
    "import torch\n",
    "import os\n",
    "import glob\n",
    "import pandas as pd\n",
    "import re\n",
    "import numpy as np\n",
    "import isodate\n",
    "import matplotlib.pyplot as plt\n",
    "import seaborn as sns\n",
    "from torch.utils.data import DataLoader, Dataset\n",
    "from transformers import AutoTokenizer, AutoModelForSequenceClassification\n",
    "from tqdm import tqdm\n",
    "import time\n",
    "from transformers import AutoModelForSequenceClassification, AutoTokenizer\n",
    "import numpy as np\n",
    "from scipy.special import softmax\n",
    "import pandas as pd\n",
    "import torch\n",
    "from tqdm import tqdm\n"
   ]
  },
  {
   "cell_type": "code",
   "execution_count": 5,
   "id": "53ff8756",
   "metadata": {},
   "outputs": [
    {
     "name": "stdout",
     "output_type": "stream",
     "text": [
      "Merged shape Comment Data: (4725012, 10)\n",
      "['kind', 'commentId', 'channelId', 'videoId', 'authorId', 'textOriginal', 'parentCommentId', 'likeCount', 'publishedAt', 'updatedAt']\n",
      "Merged shape Video Data: (92759, 15)\n",
      "['kind', 'videoId', 'publishedAt', 'channelId', 'title', 'description', 'tags', 'defaultLanguage', 'defaultAudioLanguage', 'contentDuration', 'viewCount', 'likeCount', 'favouriteCount', 'commentCount', 'topicCategories']\n"
     ]
    }
   ],
   "source": [
    "## Data loading\n",
    "DATA_DIR=r\"C:\\Users\\lixia\\Downloads\\dataset\"\n",
    "\n",
    "#comment data\n",
    "commentData = glob.glob(os.path.join(DATA_DIR, \"comments[1-5].csv\"))\n",
    "commentData.sort()\n",
    "df_comments = pd.concat([pd.read_csv(f) for f in commentData], ignore_index=True)\n",
    "print(\"Merged shape Comment Data:\", df_comments.shape)\n",
    "print(df_comments.columns.tolist())\n",
    "\n",
    "#video data\n",
    "df_video = pd.read_csv(os.path.join(DATA_DIR, \"videos.csv\"))\n",
    "print(\"Merged shape Video Data:\", df_video.shape)\n",
    "print(df_video.columns.tolist())\n",
    "\n",
    "\n",
    "\n"
   ]
  },
  {
   "cell_type": "code",
   "execution_count": 3,
   "id": "015f3602",
   "metadata": {},
   "outputs": [
    {
     "name": "stdout",
     "output_type": "stream",
     "text": [
      "Using device: GPU\n"
     ]
    },
    {
     "name": "stderr",
     "output_type": "stream",
     "text": [
      "Processing:   0%|          | 156/147657 [00:28<7:24:29,  5.53batch/s]\n"
     ]
    },
    {
     "ename": "KeyboardInterrupt",
     "evalue": "",
     "output_type": "error",
     "traceback": [
      "\u001b[1;31m---------------------------------------------------------------------------\u001b[0m",
      "\u001b[1;31mKeyboardInterrupt\u001b[0m                         Traceback (most recent call last)",
      "Cell \u001b[1;32mIn[3], line 60\u001b[0m\n\u001b[0;32m     57\u001b[0m probs \u001b[38;5;241m=\u001b[39m torch\u001b[38;5;241m.\u001b[39msoftmax(outputs\u001b[38;5;241m.\u001b[39mlogits, dim\u001b[38;5;241m=\u001b[39m\u001b[38;5;241m1\u001b[39m)\n\u001b[0;32m     58\u001b[0m preds \u001b[38;5;241m=\u001b[39m torch\u001b[38;5;241m.\u001b[39margmax(probs, dim\u001b[38;5;241m=\u001b[39m\u001b[38;5;241m1\u001b[39m)\n\u001b[1;32m---> 60\u001b[0m all_preds\u001b[38;5;241m.\u001b[39mextend(\u001b[43mpreds\u001b[49m\u001b[38;5;241;43m.\u001b[39;49m\u001b[43mcpu\u001b[49m\u001b[43m(\u001b[49m\u001b[43m)\u001b[49m\u001b[38;5;241m.\u001b[39mnumpy())\n\u001b[0;32m     61\u001b[0m all_scores\u001b[38;5;241m.\u001b[39mextend(probs[:, \u001b[38;5;241m1\u001b[39m]\u001b[38;5;241m.\u001b[39mcpu()\u001b[38;5;241m.\u001b[39mnumpy())\n\u001b[0;32m     63\u001b[0m \u001b[38;5;66;03m# --- ETA log every 500 batches ---\u001b[39;00m\n",
      "\u001b[1;31mKeyboardInterrupt\u001b[0m: "
     ]
    }
   ],
   "source": [
    "\n",
    "# -----------------------------\n",
    "# Custom Dataset\n",
    "# -----------------------------\n",
    "class CommentDataset(Dataset):\n",
    "    def __init__(self, texts, tokenizer, max_len=128):\n",
    "        self.texts = texts\n",
    "        self.tokenizer = tokenizer\n",
    "        self.max_len = max_len\n",
    "    \n",
    "    def __len__(self):\n",
    "        return len(self.texts)\n",
    "    \n",
    "    def __getitem__(self, idx):\n",
    "        encoding = self.tokenizer(\n",
    "            self.texts[idx],\n",
    "            truncation=True,\n",
    "            padding=\"max_length\",\n",
    "            max_length=self.max_len,\n",
    "            return_tensors=\"pt\"\n",
    "        )\n",
    "        return {key: val.squeeze(0) for key, val in encoding.items()}\n",
    "\n",
    "# -----------------------------\n",
    "# Load model + tokenizer on GPU\n",
    "# -----------------------------\n",
    "device = 0 if torch.cuda.is_available() else -1\n",
    "print(\"Using device:\", \"GPU\" if device == 0 else \"CPU\")\n",
    "\n",
    "tokenizer = AutoTokenizer.from_pretrained(\"unitary/toxic-bert\")\n",
    "model = AutoModelForSequenceClassification.from_pretrained(\"unitary/toxic-bert\")\n",
    "if device == 0:\n",
    "    model = model.to(\"cuda\")\n",
    "\n",
    "# -----------------------------\n",
    "# Prepare Data\n",
    "# -----------------------------\n",
    "texts = df_comments['textOriginal'].astype(str).tolist()\n",
    "dataset = CommentDataset(texts, tokenizer)\n",
    "loader = DataLoader(dataset, batch_size=32, shuffle=False)\n",
    "\n",
    "# -----------------------------\n",
    "# Inference with ETA logging\n",
    "# -----------------------------\n",
    "all_preds = []\n",
    "all_scores = []\n",
    "\n",
    "model.eval()\n",
    "start_time = time.time()\n",
    "total_batches = len(loader)\n",
    "\n",
    "with torch.no_grad():\n",
    "    for i, batch in enumerate(tqdm(loader, desc=\"Processing\", unit=\"batch\")):\n",
    "        input_ids = batch[\"input_ids\"].to(\"cuda\" if device == 0 else \"cpu\")\n",
    "        attention_mask = batch[\"attention_mask\"].to(\"cuda\" if device == 0 else \"cpu\")\n",
    "\n",
    "        outputs = model(input_ids=input_ids, attention_mask=attention_mask)\n",
    "        probs = torch.softmax(outputs.logits, dim=1)\n",
    "        preds = torch.argmax(probs, dim=1)\n",
    "\n",
    "        all_preds.extend(preds.cpu().numpy())\n",
    "        all_scores.extend(probs[:, 1].cpu().numpy())\n",
    "\n",
    "        # --- ETA log every 500 batches ---\n",
    "        if (i + 1) % 500 == 0:\n",
    "            elapsed = time.time() - start_time\n",
    "            avg_time_per_batch = elapsed / (i + 1)\n",
    "            remaining_batches = total_batches - (i + 1)\n",
    "            eta_seconds = remaining_batches * avg_time_per_batch\n",
    "            hrs = int(eta_seconds // 3600)\n",
    "            mins = int((eta_seconds % 3600) // 60)\n",
    "            print(f\"\\n[ETA] Remaining time: ~{hrs}h {mins}m\\n\")\n",
    "# -----------------------------\n",
    "# Attach to DataFrame\n",
    "# -----------------------------\n",
    "df_comments[\"predicted_label\"] = all_preds\n",
    "df_comments[\"score\"] = all_scores\n",
    "\n",
    "# -----------------------------\n",
    "# Save 50 toxic & 50 non-toxic\n",
    "# -----------------------------\n",
    "toxic_sample = df_comments[df_comments['predicted_label'] == 1].head(50)\n",
    "non_toxic_sample = df_comments[df_comments['predicted_label'] == 0].head(50)\n",
    "\n",
    "toxic_sample.to_csv(\"toxic_sample.csv\", index=False)\n",
    "non_toxic_sample.to_csv(\"non_toxic_sample.csv\", index=False)\n",
    "\n",
    "print(f\"Total comments: {len(df_comments)}\")\n",
    "print(f\"Toxic comments: {len(toxic_sample)} saved to toxic_sample.csv\")\n",
    "print(f\"Non-toxic comments: {len(non_toxic_sample)} saved to non_toxic_sample.csv\")\n"
   ]
  },
  {
   "cell_type": "code",
   "execution_count": 12,
   "id": "1bbd1220",
   "metadata": {},
   "outputs": [
    {
     "name": "stdout",
     "output_type": "stream",
     "text": [
      "Total comments: 4725012\n",
      "Spam comments: 865374 saved to spam_comments.csv\n",
      "Clean comments: 3859638 saved to clean_comments.csv\n",
      "\n",
      "=== Example Spam Comments ===\n",
      " authorId                                        textOriginal\n",
      "  2032536 PLEASE LESBIAN FLAG I BEG YOU \\n\\nYou would rock it\n",
      "  2775194                                          ❤❤❤❤❤❤❤❤❤❤\n",
      "  3158722                                                   ❤\n",
      "   785546                                                Love\n",
      "  2502640                            RadheKrishna🙏🙏🌸🌸❤❤😍😍🧿🧿🥰🥰\n",
      "  3610950                              💞💞💞💞💞💞💞💞💞🙏🙏🙏🙏🙏🙏🙏🙏👍👍👍👍👍\n",
      "  3415783                                ❤️❤️❤️❤️❤️❤️❤️❤️❤️❤️\n",
      "  2575009                                          Love u❤️❤️\n",
      "   894013                                    You’re welcome 😊\n",
      "  1198778                                        Thank you! 😊\n",
      "\n",
      "=== Example Clean Comments ===\n",
      " authorId                                           textOriginal\n",
      "  3043229       Apply mashed potato juice and mixed it with curd\n",
      "   917006                             69 missed calls from mars👽\n",
      "  1853470                                                   Baaa\n",
      "  2584166        you look like raven from phenomena raven no cap\n",
      "  1915402                                               American\n",
      "   885833             Sahi disha me ja ja raha india ka Future..\n",
      "  1040123                        Love your videos. Thank you ❤❤❤\n",
      "  1092265 India is  the best and  very beautiful 😍😍😍😍😍😍😍❤️❤️❤️❤️\n",
      "  1756840      This is so true. Skinny jeans always nipped me😭😭😭\n",
      "  1548100                                     Dunia semakin aneh\n"
     ]
    }
   ],
   "source": [
    "import pandas as pd\n",
    "import re\n",
    "import emoji\n",
    "\n",
    "# -----------------------------\n",
    "# Step 0: Define the updated spam rule\n",
    "# -----------------------------\n",
    "def is_spam_text(text):\n",
    "    if pd.isna(text) or len(str(text).strip()) == 0:\n",
    "        return True  # empty comment\n",
    "\n",
    "    text = str(text)\n",
    "    text_lower = text.lower()\n",
    "\n",
    "    # Rule 1: Contains links\n",
    "    if \"http\" in text_lower or \"www.\" in text_lower or \".com\" in text_lower:\n",
    "        return True\n",
    "\n",
    "    # Rule 2: Very short comments only\n",
    "    if len(text) < 3:\n",
    "        return True\n",
    "\n",
    "    # Rule 3: Majority symbols/emojis\n",
    "    total_chars = len(text)\n",
    "    if total_chars > 0:\n",
    "        symbol_count = len(re.findall(r'[^\\w\\s]', text))\n",
    "        emoji_count = len(emoji.emoji_list(text))\n",
    "        if (symbol_count + emoji_count) / total_chars > 0.5:\n",
    "            return True\n",
    "\n",
    "    # Rule 4: Majority uppercase letters\n",
    "    letters_only = re.sub(r'[^A-Za-z]', '', text)\n",
    "    if len(letters_only) > 0:\n",
    "        upper_count = sum(1 for c in letters_only if c.isupper())\n",
    "        if upper_count / len(letters_only) > 0.5:\n",
    "            return True\n",
    "\n",
    "    return False\n",
    "\n",
    "# -----------------------------\n",
    "# Step 1: Flag repeated comments across videos\n",
    "# -----------------------------\n",
    "# Count how many times each author-text pair appears\n",
    "dup_counts = df_comments.groupby(['authorId','textOriginal'], observed=False).size().reset_index(name='count')\n",
    "\n",
    "# Get set of repeated comments\n",
    "repeated_set = set(\n",
    "    tuple(x) for x in dup_counts[dup_counts['count'] > 1][['authorId','textOriginal']].values\n",
    ")\n",
    "\n",
    "# -----------------------------\n",
    "# Step 2: Apply spam rules (vectorized)\n",
    "# -----------------------------\n",
    "# Flag spam comments\n",
    "df_comments['spam_rule'] = df_comments['textOriginal'].apply(is_spam_text)\n",
    "\n",
    "# Flag repeated comments\n",
    "df_comments['repeated_across_videos'] = df_comments.apply(\n",
    "    lambda row: (row['authorId'], row['textOriginal']) in repeated_set, axis=1\n",
    ")\n",
    "\n",
    "# -----------------------------\n",
    "# Step 3: Combine all spam flags into one unified column\n",
    "# -----------------------------\n",
    "df_comments['is_spam'] = df_comments['spam_rule'] | df_comments['repeated_across_videos']\n",
    "\n",
    "# -----------------------------\n",
    "# Step 4: Save clean and spam comments separately\n",
    "# -----------------------------\n",
    "clean_comments = df_comments[~df_comments['is_spam']].copy()\n",
    "spam_comments = df_comments[df_comments['is_spam']].copy()\n",
    "\n",
    "# -----------------------------\n",
    "# Step 5: Summary\n",
    "# -----------------------------\n",
    "print(f\"Total comments: {len(df_comments)}\")\n",
    "print(f\"Spam comments: {len(spam_comments)} saved to spam_comments.csv\")\n",
    "print(f\"Clean comments: {len(clean_comments)} saved to clean_comments.csv\")\n",
    "\n",
    "# -----------------------------\n",
    "# Optional: Display examples\n",
    "# -----------------------------\n",
    "print(\"\\n=== Example Spam Comments ===\")\n",
    "print(spam_comments[['authorId','textOriginal']].head(10).to_string(index=False))\n",
    "\n",
    "print(\"\\n=== Example Clean Comments ===\")\n",
    "print(clean_comments[['authorId','textOriginal']].head(10).to_string(index=False))\n"
   ]
  },
  {
   "cell_type": "code",
   "execution_count": 13,
   "id": "f10ea76d",
   "metadata": {},
   "outputs": [],
   "source": [
    "clean_comments.to_csv(\"clean_comments.csv\", index=False)\n",
    "spam_comments.to_csv(\"spam_comments.csv\", index=False)"
   ]
  },
  {
   "cell_type": "code",
   "execution_count": 16,
   "id": "d0eb8963",
   "metadata": {},
   "outputs": [
    {
     "name": "stdout",
     "output_type": "stream",
     "text": [
      "['kind', 'videoId', 'publishedAt', 'channelId', 'title', 'description', 'tags', 'defaultLanguage', 'defaultAudioLanguage', 'contentDuration', 'viewCount', 'likeCount', 'favouriteCount', 'commentCount', 'topicCategories', 'duration_seconds', 'duration_bucket', 'duration_safe', 'AdjViews', 'weighted_engagement', 'SoE']\n"
     ]
    }
   ],
   "source": [
    "# Filter top relative content based on soe with comments and without\n",
    "# soe with = (likes + comments + shares +saves)/views\n",
    "\n",
    "# Step 1: Convert ISO8601 duration → seconds (vectorized via list comprehension)\n",
    "# Step 1a: Handle NaN / missing durations\n",
    "def parse_duration_safe(x):\n",
    "    if pd.isna(x):\n",
    "        return 0  # or some default, e.g., 0 seconds\n",
    "    try:\n",
    "        return isodate.parse_duration(x).total_seconds()\n",
    "    except:\n",
    "        return 0  # fallback if parsing fails\n",
    "\n",
    "df_video[\"duration_seconds\"] = np.array([parse_duration_safe(x) for x in df_video[\"contentDuration\"]])\n",
    "\n",
    "\n",
    "# Step 2: Assign duration buckets (vectorized using pd.cut)\n",
    "bins = [0, 60, 600, 1800, np.inf]  # seconds\n",
    "labels = [\"Short\", \"Medium\", \"Long\", \"Extended\"]\n",
    "df_video[\"duration_bucket\"] = pd.cut(df_video[\"duration_seconds\"], bins=bins, labels=labels, right=True)\n",
    "\n",
    "# Step 3: Compute Adjusted Views\n",
    "df_video[\"duration_safe\"] = df_video[\"duration_seconds\"].replace(0, 1)  # avoid divide by zero\n",
    "df_video[\"AdjViews\"] = df_video[\"viewCount\"].clip(lower=10) / np.log1p(df_video[\"duration_safe\"] + 1)\n",
    "\n",
    "# Step 4: Compute weighted engagement (generic scale: comment>favourite>likes)\n",
    "weights = np.array([1, 2, 5])  # likes, favourites, comments\n",
    "df_video[\"weighted_engagement\"] = df_video[\"likeCount\"] * weights[0] + df_video[\"favouriteCount\"] * weights[1] + df_video[\"commentCount\"] * weights[2]\n",
    "\n",
    "# Step 5: Compute SoE\n",
    "df_video[\"SoE\"] = df_video[\"weighted_engagement\"] / df_video[\"AdjViews\"]\n",
    "\n",
    "# Optional: keep only necessary columns for analysis\n",
    "df_result = df_video[[\"videoId\", \"duration_bucket\", \"duration_seconds\", \"viewCount\", \"AdjViews\",\n",
    "                \"likeCount\", \"favouriteCount\", \"commentCount\", \"weighted_engagement\", \"SoE\"]]\n",
    "\n",
    "# Check results\n",
    "print(df_video.columns.tolist())\n",
    "\n",
    "\n"
   ]
  },
  {
   "cell_type": "code",
   "execution_count": 31,
   "id": "5f74cb1b",
   "metadata": {},
   "outputs": [
    {
     "name": "stdout",
     "output_type": "stream",
     "text": [
      "Saved 81214 videos to C:\\Users\\lixia\\Downloads\\dataset\\videos_Short.csv\n",
      "Saved 8031 videos to C:\\Users\\lixia\\Downloads\\dataset\\videos_Medium.csv\n",
      "Saved 2077 videos to C:\\Users\\lixia\\Downloads\\dataset\\videos_Long.csv\n",
      "Saved 170 videos to C:\\Users\\lixia\\Downloads\\dataset\\videos_Extended.csv\n"
     ]
    }
   ],
   "source": [
    "# Iterate over each duration bucket and save as separate CSV\n",
    "for bucket in df_video[\"duration_bucket\"].unique():\n",
    "    if pd.isna(bucket):\n",
    "        continue  # skip NaN buckets\n",
    "    df_bucket = df_video[df_video[\"duration_bucket\"] == bucket].copy()\n",
    "    \n",
    "    # File name includes bucket name\n",
    "    file_name = os.path.join(DATA_DIR, f\"videos_{bucket}.csv\")\n",
    "    df_bucket.to_csv(file_name, index=False)\n",
    "    \n",
    "    print(f\"Saved {len(df_bucket)} videos to {file_name}\")"
   ]
  },
  {
   "cell_type": "code",
   "execution_count": 17,
   "id": "c3696a70",
   "metadata": {},
   "outputs": [
    {
     "data": {
      "image/png": "[encoded data removed]",
      "text/plain": [
       "<Figure size 1000x600 with 1 Axes>"
      ]
     },
     "metadata": {},
     "output_type": "display_data"
    },
    {
     "data": {
      "image/png": "[encoded data removed]",
      "text/plain": [
       "<Figure size 1000x600 with 1 Axes>"
      ]
     },
     "metadata": {},
     "output_type": "display_data"
    }
   ],
   "source": [
    "# Ensure seaborn style\n",
    "sns.set(style=\"whitegrid\")\n",
    "\n",
    "# Example: df_video has columns: duration_bucket, SoE\n",
    "plt.figure(figsize=(10,6))\n",
    "\n",
    "# Boxplot: SoE distribution per duration bucket\n",
    "sns.boxplot(x=\"duration_bucket\", y=\"SoE\", data=df_video, order=[\"Short\", \"Medium\", \"Long\", \"Extended\"])\n",
    "plt.title(\"Distribution of SoE by Duration Bucket\")\n",
    "plt.xlabel(\"Duration Bucket\")\n",
    "plt.ylabel(\"SoE (Share of Engagement)\")\n",
    "plt.show()\n",
    "\n",
    "# Optional: scatter plot with views\n",
    "plt.figure(figsize=(10,6))\n",
    "sns.scatterplot(x=\"viewCount\", y=\"SoE\", hue=\"duration_bucket\", data=df_video, alpha=0.6)\n",
    "plt.xscale(\"log\")  # optional, to handle large range of views\n",
    "plt.title(\"SoE vs Views by Duration Bucket\")\n",
    "plt.xlabel(\"View Count (log scale)\")\n",
    "plt.ylabel(\"SoE\")\n",
    "plt.show()"
   ]
  },
  {
   "cell_type": "code",
   "execution_count": 20,
   "id": "c4931978",
   "metadata": {},
   "outputs": [
    {
     "name": "stderr",
     "output_type": "stream",
     "text": [
      "C:\\Users\\lixia\\AppData\\Local\\Temp\\ipykernel_34432\\1150863726.py:2: FutureWarning: The default of observed=False is deprecated and will be changed to True in a future version of pandas. Pass observed=False to retain current behavior or observed=True to adopt the future default and silence this warning.\n",
      "  df_video.groupby(\"duration_bucket\")[\"SoE\"]\n"
     ]
    },
    {
     "name": "stdout",
     "output_type": "stream",
     "text": [
      "Top videos per bucket:\n",
      "  duration_bucket  total_videos   avg_SoE\n",
      "0           Short          7598  0.708813\n",
      "1          Medium           758  3.643066\n",
      "2            Long           197  5.507731\n",
      "3        Extended            17  2.612820\n",
      "\n",
      "Total comments kept: 287695\n",
      "\n",
      "Check for infinite SoE values: 0\n"
     ]
    },
    {
     "name": "stderr",
     "output_type": "stream",
     "text": [
      "C:\\Users\\lixia\\AppData\\Local\\Temp\\ipykernel_34432\\1150863726.py:13: FutureWarning: The default of observed=False is deprecated and will be changed to True in a future version of pandas. Pass observed=False to retain current behavior or observed=True to adopt the future default and silence this warning.\n",
      "  df_top_videos.groupby(\"duration_bucket\")\n"
     ]
    }
   ],
   "source": [
    "cutoffs = (\n",
    "    df_video.groupby(\"duration_bucket\")[\"SoE\"]\n",
    "    .quantile(0.90)\n",
    "    .reset_index()\n",
    "    .rename(columns={\"SoE\": \"SoE_cutoff\"})\n",
    ")\n",
    "\n",
    "df_video_merged = df_video.merge(cutoffs, on=\"duration_bucket\", how=\"left\")\n",
    "df_top_videos = df_video_merged[df_video_merged[\"SoE\"] >= df_video_merged[\"SoE_cutoff\"]].copy()\n",
    "df_top_comments = clean_comments[clean_comments[\"videoId\"].isin(df_top_videos[\"videoId\"])].copy()\n",
    "\n",
    "summary = (\n",
    "    df_top_videos.groupby(\"duration_bucket\")\n",
    "    .agg(\n",
    "        total_videos=(\"videoId\", \"count\"),\n",
    "        avg_SoE=(\"SoE\", \"mean\")\n",
    "    )\n",
    "    .reset_index()\n",
    ")\n",
    "\n",
    "print(\"Top videos per bucket:\")\n",
    "print(summary)\n",
    "\n",
    "print(f\"\\nTotal comments kept: {len(df_top_comments)}\")\n",
    "\n",
    "# Debug check: ensure no inf\n",
    "print(\"\\nCheck for infinite SoE values:\", np.isinf(df_video[\"SoE\"]).sum())"
   ]
  },
  {
   "cell_type": "code",
   "execution_count": 43,
   "id": "0dd96da1",
   "metadata": {},
   "outputs": [
    {
     "name": "stdout",
     "output_type": "stream",
     "text": [
      "Using device: GPU\n"
     ]
    },
    {
     "name": "stderr",
     "output_type": "stream",
     "text": [
      "Processing:   1%|          | 501/64021 [01:30<3:20:22,  5.28batch/s]"
     ]
    },
    {
     "name": "stdout",
     "output_type": "stream",
     "text": [
      "\n",
      "[ETA] Remaining time: ~3h 11m\n",
      "\n"
     ]
    },
    {
     "name": "stderr",
     "output_type": "stream",
     "text": [
      "Processing:   2%|▏         | 1000/64021 [03:05<3:22:05,  5.20batch/s]"
     ]
    },
    {
     "name": "stdout",
     "output_type": "stream",
     "text": [
      "\n",
      "[ETA] Remaining time: ~3h 14m\n",
      "\n"
     ]
    },
    {
     "name": "stderr",
     "output_type": "stream",
     "text": [
      "Processing:   2%|▏         | 1500/64021 [04:43<3:24:58,  5.08batch/s]"
     ]
    },
    {
     "name": "stdout",
     "output_type": "stream",
     "text": [
      "\n",
      "[ETA] Remaining time: ~3h 16m\n",
      "\n"
     ]
    },
    {
     "name": "stderr",
     "output_type": "stream",
     "text": [
      "Processing:   3%|▎         | 2000/64021 [06:21<3:27:29,  4.98batch/s]"
     ]
    },
    {
     "name": "stdout",
     "output_type": "stream",
     "text": [
      "\n",
      "[ETA] Remaining time: ~3h 17m\n",
      "\n"
     ]
    },
    {
     "name": "stderr",
     "output_type": "stream",
     "text": [
      "Processing:   4%|▍         | 2501/64021 [08:01<3:27:31,  4.94batch/s]"
     ]
    },
    {
     "name": "stdout",
     "output_type": "stream",
     "text": [
      "\n",
      "[ETA] Remaining time: ~3h 17m\n",
      "\n"
     ]
    },
    {
     "name": "stderr",
     "output_type": "stream",
     "text": [
      "Processing:   5%|▍         | 3001/64021 [09:41<3:24:21,  4.98batch/s]"
     ]
    },
    {
     "name": "stdout",
     "output_type": "stream",
     "text": [
      "\n",
      "[ETA] Remaining time: ~3h 17m\n",
      "\n"
     ]
    },
    {
     "name": "stderr",
     "output_type": "stream",
     "text": [
      "Processing:   5%|▌         | 3501/64021 [11:22<3:23:23,  4.96batch/s]"
     ]
    },
    {
     "name": "stdout",
     "output_type": "stream",
     "text": [
      "\n",
      "[ETA] Remaining time: ~3h 16m\n",
      "\n"
     ]
    },
    {
     "name": "stderr",
     "output_type": "stream",
     "text": [
      "Processing:   6%|▌         | 4000/64021 [13:03<3:22:30,  4.94batch/s]"
     ]
    },
    {
     "name": "stdout",
     "output_type": "stream",
     "text": [
      "\n",
      "[ETA] Remaining time: ~3h 15m\n",
      "\n"
     ]
    },
    {
     "name": "stderr",
     "output_type": "stream",
     "text": [
      "Processing:   7%|▋         | 4500/64021 [14:43<3:18:34,  5.00batch/s]"
     ]
    },
    {
     "name": "stdout",
     "output_type": "stream",
     "text": [
      "\n",
      "[ETA] Remaining time: ~3h 14m\n",
      "\n"
     ]
    },
    {
     "name": "stderr",
     "output_type": "stream",
     "text": [
      "Processing:   8%|▊         | 5001/64021 [16:24<3:15:08,  5.04batch/s]"
     ]
    },
    {
     "name": "stdout",
     "output_type": "stream",
     "text": [
      "\n",
      "[ETA] Remaining time: ~3h 13m\n",
      "\n"
     ]
    },
    {
     "name": "stderr",
     "output_type": "stream",
     "text": [
      "Processing:   9%|▊         | 5500/64021 [18:05<3:17:47,  4.93batch/s]"
     ]
    },
    {
     "name": "stdout",
     "output_type": "stream",
     "text": [
      "\n",
      "[ETA] Remaining time: ~3h 12m\n",
      "\n"
     ]
    },
    {
     "name": "stderr",
     "output_type": "stream",
     "text": [
      "Processing:   9%|▉         | 6000/64021 [19:46<3:14:31,  4.97batch/s]"
     ]
    },
    {
     "name": "stdout",
     "output_type": "stream",
     "text": [
      "\n",
      "[ETA] Remaining time: ~3h 11m\n",
      "\n"
     ]
    },
    {
     "name": "stderr",
     "output_type": "stream",
     "text": [
      "Processing:  10%|█         | 6501/64021 [21:27<3:13:22,  4.96batch/s]"
     ]
    },
    {
     "name": "stdout",
     "output_type": "stream",
     "text": [
      "\n",
      "[ETA] Remaining time: ~3h 9m\n",
      "\n"
     ]
    },
    {
     "name": "stderr",
     "output_type": "stream",
     "text": [
      "Processing:  11%|█         | 7001/64021 [23:08<3:11:45,  4.96batch/s]"
     ]
    },
    {
     "name": "stdout",
     "output_type": "stream",
     "text": [
      "\n",
      "[ETA] Remaining time: ~3h 8m\n",
      "\n"
     ]
    },
    {
     "name": "stderr",
     "output_type": "stream",
     "text": [
      "Processing:  12%|█▏        | 7501/64021 [24:49<3:10:05,  4.96batch/s]"
     ]
    },
    {
     "name": "stdout",
     "output_type": "stream",
     "text": [
      "\n",
      "[ETA] Remaining time: ~3h 7m\n",
      "\n"
     ]
    },
    {
     "name": "stderr",
     "output_type": "stream",
     "text": [
      "Processing:  12%|█▏        | 8001/64021 [26:30<3:09:25,  4.93batch/s]"
     ]
    },
    {
     "name": "stdout",
     "output_type": "stream",
     "text": [
      "\n",
      "[ETA] Remaining time: ~3h 5m\n",
      "\n"
     ]
    },
    {
     "name": "stderr",
     "output_type": "stream",
     "text": [
      "Processing:  13%|█▎        | 8501/64021 [28:11<3:05:31,  4.99batch/s]"
     ]
    },
    {
     "name": "stdout",
     "output_type": "stream",
     "text": [
      "\n",
      "[ETA] Remaining time: ~3h 4m\n",
      "\n"
     ]
    },
    {
     "name": "stderr",
     "output_type": "stream",
     "text": [
      "Processing:  14%|█▍        | 9000/64021 [29:51<3:03:24,  5.00batch/s]"
     ]
    },
    {
     "name": "stdout",
     "output_type": "stream",
     "text": [
      "\n",
      "[ETA] Remaining time: ~3h 2m\n",
      "\n"
     ]
    },
    {
     "name": "stderr",
     "output_type": "stream",
     "text": [
      "Processing:  15%|█▍        | 9500/64021 [31:31<3:01:41,  5.00batch/s]"
     ]
    },
    {
     "name": "stdout",
     "output_type": "stream",
     "text": [
      "\n",
      "[ETA] Remaining time: ~3h 0m\n",
      "\n"
     ]
    },
    {
     "name": "stderr",
     "output_type": "stream",
     "text": [
      "Processing:  16%|█▌        | 10000/64021 [33:13<3:03:20,  4.91batch/s]"
     ]
    },
    {
     "name": "stdout",
     "output_type": "stream",
     "text": [
      "\n",
      "[ETA] Remaining time: ~2h 59m\n",
      "\n"
     ]
    },
    {
     "name": "stderr",
     "output_type": "stream",
     "text": [
      "Processing:  16%|█▋        | 10500/64021 [34:55<3:04:53,  4.82batch/s]"
     ]
    },
    {
     "name": "stdout",
     "output_type": "stream",
     "text": [
      "\n",
      "[ETA] Remaining time: ~2h 58m\n",
      "\n"
     ]
    },
    {
     "name": "stderr",
     "output_type": "stream",
     "text": [
      "Processing:  17%|█▋        | 11000/64021 [36:40<3:03:58,  4.80batch/s]"
     ]
    },
    {
     "name": "stdout",
     "output_type": "stream",
     "text": [
      "\n",
      "[ETA] Remaining time: ~2h 56m\n",
      "\n"
     ]
    },
    {
     "name": "stderr",
     "output_type": "stream",
     "text": [
      "Processing:  18%|█▊        | 11500/64021 [38:24<3:03:23,  4.77batch/s]"
     ]
    },
    {
     "name": "stdout",
     "output_type": "stream",
     "text": [
      "\n",
      "[ETA] Remaining time: ~2h 55m\n",
      "\n"
     ]
    },
    {
     "name": "stderr",
     "output_type": "stream",
     "text": [
      "Processing:  19%|█▊        | 12000/64021 [40:09<3:03:31,  4.72batch/s]"
     ]
    },
    {
     "name": "stdout",
     "output_type": "stream",
     "text": [
      "\n",
      "[ETA] Remaining time: ~2h 54m\n",
      "\n"
     ]
    },
    {
     "name": "stderr",
     "output_type": "stream",
     "text": [
      "Processing:  20%|█▉        | 12500/64021 [41:53<2:56:28,  4.87batch/s]"
     ]
    },
    {
     "name": "stdout",
     "output_type": "stream",
     "text": [
      "\n",
      "[ETA] Remaining time: ~2h 52m\n",
      "\n"
     ]
    },
    {
     "name": "stderr",
     "output_type": "stream",
     "text": [
      "Processing:  20%|██        | 13000/64021 [43:37<3:00:42,  4.71batch/s]"
     ]
    },
    {
     "name": "stdout",
     "output_type": "stream",
     "text": [
      "\n",
      "[ETA] Remaining time: ~2h 51m\n",
      "\n"
     ]
    },
    {
     "name": "stderr",
     "output_type": "stream",
     "text": [
      "Processing:  21%|██        | 13501/64021 [45:21<2:58:07,  4.73batch/s]"
     ]
    },
    {
     "name": "stdout",
     "output_type": "stream",
     "text": [
      "\n",
      "[ETA] Remaining time: ~2h 49m\n",
      "\n"
     ]
    },
    {
     "name": "stderr",
     "output_type": "stream",
     "text": [
      "Processing:  22%|██▏       | 14000/64021 [47:05<2:52:15,  4.84batch/s]"
     ]
    },
    {
     "name": "stdout",
     "output_type": "stream",
     "text": [
      "\n",
      "[ETA] Remaining time: ~2h 48m\n",
      "\n"
     ]
    },
    {
     "name": "stderr",
     "output_type": "stream",
     "text": [
      "Processing:  23%|██▎       | 14501/64021 [48:49<2:49:24,  4.87batch/s]"
     ]
    },
    {
     "name": "stdout",
     "output_type": "stream",
     "text": [
      "\n",
      "[ETA] Remaining time: ~2h 46m\n",
      "\n"
     ]
    },
    {
     "name": "stderr",
     "output_type": "stream",
     "text": [
      "Processing:  23%|██▎       | 15000/64021 [50:32<2:48:12,  4.86batch/s]"
     ]
    },
    {
     "name": "stdout",
     "output_type": "stream",
     "text": [
      "\n",
      "[ETA] Remaining time: ~2h 45m\n",
      "\n"
     ]
    },
    {
     "name": "stderr",
     "output_type": "stream",
     "text": [
      "Processing:  24%|██▍       | 15500/64021 [52:16<2:45:20,  4.89batch/s]"
     ]
    },
    {
     "name": "stdout",
     "output_type": "stream",
     "text": [
      "\n",
      "[ETA] Remaining time: ~2h 43m\n",
      "\n"
     ]
    },
    {
     "name": "stderr",
     "output_type": "stream",
     "text": [
      "Processing:  25%|██▍       | 16000/64021 [53:59<2:45:45,  4.83batch/s]"
     ]
    },
    {
     "name": "stdout",
     "output_type": "stream",
     "text": [
      "\n",
      "[ETA] Remaining time: ~2h 42m\n",
      "\n"
     ]
    },
    {
     "name": "stderr",
     "output_type": "stream",
     "text": [
      "Processing:  26%|██▌       | 16500/64021 [55:43<2:48:57,  4.69batch/s]"
     ]
    },
    {
     "name": "stdout",
     "output_type": "stream",
     "text": [
      "\n",
      "[ETA] Remaining time: ~2h 40m\n",
      "\n"
     ]
    },
    {
     "name": "stderr",
     "output_type": "stream",
     "text": [
      "Processing:  27%|██▋       | 17001/64021 [57:27<2:44:25,  4.77batch/s]"
     ]
    },
    {
     "name": "stdout",
     "output_type": "stream",
     "text": [
      "\n",
      "[ETA] Remaining time: ~2h 38m\n",
      "\n"
     ]
    },
    {
     "name": "stderr",
     "output_type": "stream",
     "text": [
      "Processing:  27%|██▋       | 17500/64021 [59:10<2:37:58,  4.91batch/s]"
     ]
    },
    {
     "name": "stdout",
     "output_type": "stream",
     "text": [
      "\n",
      "[ETA] Remaining time: ~2h 37m\n",
      "\n"
     ]
    },
    {
     "name": "stderr",
     "output_type": "stream",
     "text": [
      "Processing:  28%|██▊       | 18001/64021 [1:00:54<2:36:08,  4.91batch/s]"
     ]
    },
    {
     "name": "stdout",
     "output_type": "stream",
     "text": [
      "\n",
      "[ETA] Remaining time: ~2h 35m\n",
      "\n"
     ]
    },
    {
     "name": "stderr",
     "output_type": "stream",
     "text": [
      "Processing:  29%|██▉       | 18500/64021 [1:02:37<2:34:57,  4.90batch/s]"
     ]
    },
    {
     "name": "stdout",
     "output_type": "stream",
     "text": [
      "\n",
      "[ETA] Remaining time: ~2h 34m\n",
      "\n"
     ]
    },
    {
     "name": "stderr",
     "output_type": "stream",
     "text": [
      "Processing:  30%|██▉       | 19000/64021 [1:04:19<2:32:28,  4.92batch/s]"
     ]
    },
    {
     "name": "stdout",
     "output_type": "stream",
     "text": [
      "\n",
      "[ETA] Remaining time: ~2h 32m\n",
      "\n"
     ]
    },
    {
     "name": "stderr",
     "output_type": "stream",
     "text": [
      "Processing:  30%|███       | 19500/64021 [1:06:01<2:38:47,  4.67batch/s]"
     ]
    },
    {
     "name": "stdout",
     "output_type": "stream",
     "text": [
      "\n",
      "[ETA] Remaining time: ~2h 30m\n",
      "\n"
     ]
    },
    {
     "name": "stderr",
     "output_type": "stream",
     "text": [
      "Processing:  31%|███       | 20001/64021 [1:07:43<2:29:36,  4.90batch/s]"
     ]
    },
    {
     "name": "stdout",
     "output_type": "stream",
     "text": [
      "\n",
      "[ETA] Remaining time: ~2h 29m\n",
      "\n"
     ]
    },
    {
     "name": "stderr",
     "output_type": "stream",
     "text": [
      "Processing:  32%|███▏      | 20500/64021 [1:09:25<2:29:13,  4.86batch/s]"
     ]
    },
    {
     "name": "stdout",
     "output_type": "stream",
     "text": [
      "\n",
      "[ETA] Remaining time: ~2h 27m\n",
      "\n"
     ]
    },
    {
     "name": "stderr",
     "output_type": "stream",
     "text": [
      "Processing:  33%|███▎      | 21000/64021 [1:11:08<2:26:11,  4.90batch/s]"
     ]
    },
    {
     "name": "stdout",
     "output_type": "stream",
     "text": [
      "\n",
      "[ETA] Remaining time: ~2h 25m\n",
      "\n"
     ]
    },
    {
     "name": "stderr",
     "output_type": "stream",
     "text": [
      "Processing:  34%|███▎      | 21500/64021 [1:12:51<2:22:37,  4.97batch/s]"
     ]
    },
    {
     "name": "stdout",
     "output_type": "stream",
     "text": [
      "\n",
      "[ETA] Remaining time: ~2h 24m\n",
      "\n"
     ]
    },
    {
     "name": "stderr",
     "output_type": "stream",
     "text": [
      "Processing:  34%|███▍      | 22001/64021 [1:14:32<2:21:32,  4.95batch/s]"
     ]
    },
    {
     "name": "stdout",
     "output_type": "stream",
     "text": [
      "\n",
      "[ETA] Remaining time: ~2h 22m\n",
      "\n"
     ]
    },
    {
     "name": "stderr",
     "output_type": "stream",
     "text": [
      "Processing:  35%|███▌      | 22500/64021 [1:16:12<2:18:21,  5.00batch/s]"
     ]
    },
    {
     "name": "stdout",
     "output_type": "stream",
     "text": [
      "\n",
      "[ETA] Remaining time: ~2h 20m\n",
      "\n"
     ]
    },
    {
     "name": "stderr",
     "output_type": "stream",
     "text": [
      "Processing:  36%|███▌      | 23001/64021 [1:17:52<2:17:13,  4.98batch/s]"
     ]
    },
    {
     "name": "stdout",
     "output_type": "stream",
     "text": [
      "\n",
      "[ETA] Remaining time: ~2h 18m\n",
      "\n"
     ]
    },
    {
     "name": "stderr",
     "output_type": "stream",
     "text": [
      "Processing:  37%|███▋      | 23500/64021 [1:19:33<2:15:11,  5.00batch/s]"
     ]
    },
    {
     "name": "stdout",
     "output_type": "stream",
     "text": [
      "\n",
      "[ETA] Remaining time: ~2h 17m\n",
      "\n"
     ]
    },
    {
     "name": "stderr",
     "output_type": "stream",
     "text": [
      "Processing:  37%|███▋      | 24000/64021 [1:21:13<2:13:25,  5.00batch/s]"
     ]
    },
    {
     "name": "stdout",
     "output_type": "stream",
     "text": [
      "\n",
      "[ETA] Remaining time: ~2h 15m\n",
      "\n"
     ]
    },
    {
     "name": "stderr",
     "output_type": "stream",
     "text": [
      "Processing:  38%|███▊      | 24501/64021 [1:22:53<2:10:42,  5.04batch/s]"
     ]
    },
    {
     "name": "stdout",
     "output_type": "stream",
     "text": [
      "\n",
      "[ETA] Remaining time: ~2h 13m\n",
      "\n"
     ]
    },
    {
     "name": "stderr",
     "output_type": "stream",
     "text": [
      "Processing:  39%|███▉      | 25001/64021 [1:24:34<2:10:56,  4.97batch/s]"
     ]
    },
    {
     "name": "stdout",
     "output_type": "stream",
     "text": [
      "\n",
      "[ETA] Remaining time: ~2h 12m\n",
      "\n"
     ]
    },
    {
     "name": "stderr",
     "output_type": "stream",
     "text": [
      "Processing:  40%|███▉      | 25500/64021 [1:26:14<2:09:26,  4.96batch/s]"
     ]
    },
    {
     "name": "stdout",
     "output_type": "stream",
     "text": [
      "\n",
      "[ETA] Remaining time: ~2h 10m\n",
      "\n"
     ]
    },
    {
     "name": "stderr",
     "output_type": "stream",
     "text": [
      "Processing:  41%|████      | 26000/64021 [1:27:55<2:08:29,  4.93batch/s]"
     ]
    },
    {
     "name": "stdout",
     "output_type": "stream",
     "text": [
      "\n",
      "[ETA] Remaining time: ~2h 8m\n",
      "\n"
     ]
    },
    {
     "name": "stderr",
     "output_type": "stream",
     "text": [
      "Processing:  41%|████▏     | 26500/64021 [1:30:28<2:03:41,  5.06batch/s]  "
     ]
    },
    {
     "name": "stdout",
     "output_type": "stream",
     "text": [
      "\n",
      "[ETA] Remaining time: ~2h 8m\n",
      "\n"
     ]
    },
    {
     "name": "stderr",
     "output_type": "stream",
     "text": [
      "Processing:  42%|████▏     | 27001/64021 [1:32:07<2:03:37,  4.99batch/s]"
     ]
    },
    {
     "name": "stdout",
     "output_type": "stream",
     "text": [
      "\n",
      "[ETA] Remaining time: ~2h 6m\n",
      "\n"
     ]
    },
    {
     "name": "stderr",
     "output_type": "stream",
     "text": [
      "Processing:  43%|████▎     | 27501/64021 [1:33:48<2:02:57,  4.95batch/s]"
     ]
    },
    {
     "name": "stdout",
     "output_type": "stream",
     "text": [
      "\n",
      "[ETA] Remaining time: ~2h 4m\n",
      "\n"
     ]
    },
    {
     "name": "stderr",
     "output_type": "stream",
     "text": [
      "Processing:  44%|████▎     | 28000/64021 [1:35:29<2:00:44,  4.97batch/s]"
     ]
    },
    {
     "name": "stdout",
     "output_type": "stream",
     "text": [
      "\n",
      "[ETA] Remaining time: ~2h 2m\n",
      "\n"
     ]
    },
    {
     "name": "stderr",
     "output_type": "stream",
     "text": [
      "Processing:  45%|████▍     | 28501/64021 [1:37:10<2:00:37,  4.91batch/s]"
     ]
    },
    {
     "name": "stdout",
     "output_type": "stream",
     "text": [
      "\n",
      "[ETA] Remaining time: ~2h 1m\n",
      "\n"
     ]
    },
    {
     "name": "stderr",
     "output_type": "stream",
     "text": [
      "Processing:  45%|████▌     | 29000/64021 [1:38:51<1:58:21,  4.93batch/s]"
     ]
    },
    {
     "name": "stdout",
     "output_type": "stream",
     "text": [
      "\n",
      "[ETA] Remaining time: ~1h 59m\n",
      "\n"
     ]
    },
    {
     "name": "stderr",
     "output_type": "stream",
     "text": [
      "Processing:  46%|████▌     | 29501/64021 [1:40:32<1:56:46,  4.93batch/s]"
     ]
    },
    {
     "name": "stdout",
     "output_type": "stream",
     "text": [
      "\n",
      "[ETA] Remaining time: ~1h 57m\n",
      "\n"
     ]
    },
    {
     "name": "stderr",
     "output_type": "stream",
     "text": [
      "Processing:  47%|████▋     | 30001/64021 [1:42:13<1:54:41,  4.94batch/s]"
     ]
    },
    {
     "name": "stdout",
     "output_type": "stream",
     "text": [
      "\n",
      "[ETA] Remaining time: ~1h 55m\n",
      "\n"
     ]
    },
    {
     "name": "stderr",
     "output_type": "stream",
     "text": [
      "Processing:  48%|████▊     | 30501/64021 [1:43:54<1:54:11,  4.89batch/s]"
     ]
    },
    {
     "name": "stdout",
     "output_type": "stream",
     "text": [
      "\n",
      "[ETA] Remaining time: ~1h 54m\n",
      "\n"
     ]
    },
    {
     "name": "stderr",
     "output_type": "stream",
     "text": [
      "Processing:  48%|████▊     | 31001/64021 [1:45:36<1:51:43,  4.93batch/s]"
     ]
    },
    {
     "name": "stdout",
     "output_type": "stream",
     "text": [
      "\n",
      "[ETA] Remaining time: ~1h 52m\n",
      "\n"
     ]
    },
    {
     "name": "stderr",
     "output_type": "stream",
     "text": [
      "Processing:  49%|████▉     | 31500/64021 [1:47:16<1:49:00,  4.97batch/s]"
     ]
    },
    {
     "name": "stdout",
     "output_type": "stream",
     "text": [
      "\n",
      "[ETA] Remaining time: ~1h 50m\n",
      "\n"
     ]
    },
    {
     "name": "stderr",
     "output_type": "stream",
     "text": [
      "Processing:  50%|████▉     | 32001/64021 [1:48:58<1:48:11,  4.93batch/s]"
     ]
    },
    {
     "name": "stdout",
     "output_type": "stream",
     "text": [
      "\n",
      "[ETA] Remaining time: ~1h 49m\n",
      "\n"
     ]
    },
    {
     "name": "stderr",
     "output_type": "stream",
     "text": [
      "Processing:  51%|█████     | 32500/64021 [1:50:39<1:45:23,  4.98batch/s]"
     ]
    },
    {
     "name": "stdout",
     "output_type": "stream",
     "text": [
      "\n",
      "[ETA] Remaining time: ~1h 47m\n",
      "\n"
     ]
    },
    {
     "name": "stderr",
     "output_type": "stream",
     "text": [
      "Processing:  52%|█████▏    | 33000/64021 [1:52:19<1:44:53,  4.93batch/s]"
     ]
    },
    {
     "name": "stdout",
     "output_type": "stream",
     "text": [
      "\n",
      "[ETA] Remaining time: ~1h 45m\n",
      "\n"
     ]
    },
    {
     "name": "stderr",
     "output_type": "stream",
     "text": [
      "Processing:  52%|█████▏    | 33500/64021 [1:54:01<1:42:27,  4.96batch/s]"
     ]
    },
    {
     "name": "stdout",
     "output_type": "stream",
     "text": [
      "\n",
      "[ETA] Remaining time: ~1h 43m\n",
      "\n"
     ]
    },
    {
     "name": "stderr",
     "output_type": "stream",
     "text": [
      "Processing:  53%|█████▎    | 34001/64021 [1:55:42<1:41:09,  4.95batch/s]"
     ]
    },
    {
     "name": "stdout",
     "output_type": "stream",
     "text": [
      "\n",
      "[ETA] Remaining time: ~1h 42m\n",
      "\n"
     ]
    },
    {
     "name": "stderr",
     "output_type": "stream",
     "text": [
      "Processing:  54%|█████▍    | 34501/64021 [1:57:23<1:39:33,  4.94batch/s]"
     ]
    },
    {
     "name": "stdout",
     "output_type": "stream",
     "text": [
      "\n",
      "[ETA] Remaining time: ~1h 40m\n",
      "\n"
     ]
    },
    {
     "name": "stderr",
     "output_type": "stream",
     "text": [
      "Processing:  55%|█████▍    | 35000/64021 [1:59:05<1:37:41,  4.95batch/s]"
     ]
    },
    {
     "name": "stdout",
     "output_type": "stream",
     "text": [
      "\n",
      "[ETA] Remaining time: ~1h 38m\n",
      "\n"
     ]
    },
    {
     "name": "stderr",
     "output_type": "stream",
     "text": [
      "Processing:  55%|█████▌    | 35500/64021 [2:00:46<1:35:55,  4.96batch/s]"
     ]
    },
    {
     "name": "stdout",
     "output_type": "stream",
     "text": [
      "\n",
      "[ETA] Remaining time: ~1h 37m\n",
      "\n"
     ]
    },
    {
     "name": "stderr",
     "output_type": "stream",
     "text": [
      "Processing:  56%|█████▌    | 36000/64021 [2:02:27<1:35:47,  4.88batch/s]"
     ]
    },
    {
     "name": "stdout",
     "output_type": "stream",
     "text": [
      "\n",
      "[ETA] Remaining time: ~1h 35m\n",
      "\n"
     ]
    },
    {
     "name": "stderr",
     "output_type": "stream",
     "text": [
      "Processing:  57%|█████▋    | 36500/64021 [2:04:09<1:32:37,  4.95batch/s]"
     ]
    },
    {
     "name": "stdout",
     "output_type": "stream",
     "text": [
      "\n",
      "[ETA] Remaining time: ~1h 33m\n",
      "\n"
     ]
    },
    {
     "name": "stderr",
     "output_type": "stream",
     "text": [
      "Processing:  58%|█████▊    | 37000/64021 [2:05:50<1:32:39,  4.86batch/s]"
     ]
    },
    {
     "name": "stdout",
     "output_type": "stream",
     "text": [
      "\n",
      "[ETA] Remaining time: ~1h 31m\n",
      "\n"
     ]
    },
    {
     "name": "stderr",
     "output_type": "stream",
     "text": [
      "Processing:  59%|█████▊    | 37501/64021 [2:07:32<1:29:33,  4.94batch/s]"
     ]
    },
    {
     "name": "stdout",
     "output_type": "stream",
     "text": [
      "\n",
      "[ETA] Remaining time: ~1h 30m\n",
      "\n"
     ]
    },
    {
     "name": "stderr",
     "output_type": "stream",
     "text": [
      "Processing:  59%|█████▉    | 38000/64021 [2:09:13<1:27:18,  4.97batch/s]"
     ]
    },
    {
     "name": "stdout",
     "output_type": "stream",
     "text": [
      "\n",
      "[ETA] Remaining time: ~1h 28m\n",
      "\n"
     ]
    },
    {
     "name": "stderr",
     "output_type": "stream",
     "text": [
      "Processing:  60%|██████    | 38501/64021 [2:10:55<1:26:05,  4.94batch/s]"
     ]
    },
    {
     "name": "stdout",
     "output_type": "stream",
     "text": [
      "\n",
      "[ETA] Remaining time: ~1h 26m\n",
      "\n"
     ]
    },
    {
     "name": "stderr",
     "output_type": "stream",
     "text": [
      "Processing:  61%|██████    | 39000/64021 [2:12:35<1:25:18,  4.89batch/s]"
     ]
    },
    {
     "name": "stdout",
     "output_type": "stream",
     "text": [
      "\n",
      "[ETA] Remaining time: ~1h 25m\n",
      "\n"
     ]
    },
    {
     "name": "stderr",
     "output_type": "stream",
     "text": [
      "Processing:  62%|██████▏   | 39500/64021 [2:14:16<1:26:41,  4.71batch/s]"
     ]
    },
    {
     "name": "stdout",
     "output_type": "stream",
     "text": [
      "\n",
      "[ETA] Remaining time: ~1h 23m\n",
      "\n"
     ]
    },
    {
     "name": "stderr",
     "output_type": "stream",
     "text": [
      "Processing:  62%|██████▏   | 40000/64021 [2:15:57<1:20:35,  4.97batch/s]"
     ]
    },
    {
     "name": "stdout",
     "output_type": "stream",
     "text": [
      "\n",
      "[ETA] Remaining time: ~1h 21m\n",
      "\n"
     ]
    },
    {
     "name": "stderr",
     "output_type": "stream",
     "text": [
      "Processing:  63%|██████▎   | 40501/64021 [2:17:38<1:18:56,  4.97batch/s]"
     ]
    },
    {
     "name": "stdout",
     "output_type": "stream",
     "text": [
      "\n",
      "[ETA] Remaining time: ~1h 19m\n",
      "\n"
     ]
    },
    {
     "name": "stderr",
     "output_type": "stream",
     "text": [
      "Processing:  64%|██████▍   | 41000/64021 [2:19:18<1:17:00,  4.98batch/s]"
     ]
    },
    {
     "name": "stdout",
     "output_type": "stream",
     "text": [
      "\n",
      "[ETA] Remaining time: ~1h 18m\n",
      "\n"
     ]
    },
    {
     "name": "stderr",
     "output_type": "stream",
     "text": [
      "Processing:  65%|██████▍   | 41501/64021 [2:20:59<1:15:45,  4.95batch/s]"
     ]
    },
    {
     "name": "stdout",
     "output_type": "stream",
     "text": [
      "\n",
      "[ETA] Remaining time: ~1h 16m\n",
      "\n"
     ]
    },
    {
     "name": "stderr",
     "output_type": "stream",
     "text": [
      "Processing:  66%|██████▌   | 42001/64021 [2:22:40<1:14:27,  4.93batch/s]"
     ]
    },
    {
     "name": "stdout",
     "output_type": "stream",
     "text": [
      "\n",
      "[ETA] Remaining time: ~1h 14m\n",
      "\n"
     ]
    },
    {
     "name": "stderr",
     "output_type": "stream",
     "text": [
      "Processing:  66%|██████▋   | 42500/64021 [2:24:21<1:12:13,  4.97batch/s]"
     ]
    },
    {
     "name": "stdout",
     "output_type": "stream",
     "text": [
      "\n",
      "[ETA] Remaining time: ~1h 13m\n",
      "\n"
     ]
    },
    {
     "name": "stderr",
     "output_type": "stream",
     "text": [
      "Processing:  67%|██████▋   | 43001/64021 [2:26:02<1:09:32,  5.04batch/s]"
     ]
    },
    {
     "name": "stdout",
     "output_type": "stream",
     "text": [
      "\n",
      "[ETA] Remaining time: ~1h 11m\n",
      "\n"
     ]
    },
    {
     "name": "stderr",
     "output_type": "stream",
     "text": [
      "Processing:  68%|██████▊   | 43500/64021 [2:27:42<1:08:47,  4.97batch/s]"
     ]
    },
    {
     "name": "stdout",
     "output_type": "stream",
     "text": [
      "\n",
      "[ETA] Remaining time: ~1h 9m\n",
      "\n"
     ]
    },
    {
     "name": "stderr",
     "output_type": "stream",
     "text": [
      "Processing:  69%|██████▊   | 44001/64021 [2:29:23<1:07:11,  4.97batch/s]"
     ]
    },
    {
     "name": "stdout",
     "output_type": "stream",
     "text": [
      "\n",
      "[ETA] Remaining time: ~1h 7m\n",
      "\n"
     ]
    },
    {
     "name": "stderr",
     "output_type": "stream",
     "text": [
      "Processing:  70%|██████▉   | 44501/64021 [2:31:03<1:05:53,  4.94batch/s]"
     ]
    },
    {
     "name": "stdout",
     "output_type": "stream",
     "text": [
      "\n",
      "[ETA] Remaining time: ~1h 6m\n",
      "\n"
     ]
    },
    {
     "name": "stderr",
     "output_type": "stream",
     "text": [
      "Processing:  70%|███████   | 45001/64021 [2:32:44<1:03:44,  4.97batch/s]"
     ]
    },
    {
     "name": "stdout",
     "output_type": "stream",
     "text": [
      "\n",
      "[ETA] Remaining time: ~1h 4m\n",
      "\n"
     ]
    },
    {
     "name": "stderr",
     "output_type": "stream",
     "text": [
      "Processing:  71%|███████   | 45501/64021 [2:34:25<1:02:25,  4.94batch/s]"
     ]
    },
    {
     "name": "stdout",
     "output_type": "stream",
     "text": [
      "\n",
      "[ETA] Remaining time: ~1h 2m\n",
      "\n"
     ]
    },
    {
     "name": "stderr",
     "output_type": "stream",
     "text": [
      "Processing:  72%|███████▏  | 46000/64021 [2:36:05<1:00:17,  4.98batch/s]"
     ]
    },
    {
     "name": "stdout",
     "output_type": "stream",
     "text": [
      "\n",
      "[ETA] Remaining time: ~1h 1m\n",
      "\n"
     ]
    },
    {
     "name": "stderr",
     "output_type": "stream",
     "text": [
      "Processing:  73%|███████▎  | 46500/64021 [2:37:46<58:46,  4.97batch/s]  "
     ]
    },
    {
     "name": "stdout",
     "output_type": "stream",
     "text": [
      "\n",
      "[ETA] Remaining time: ~0h 59m\n",
      "\n"
     ]
    },
    {
     "name": "stderr",
     "output_type": "stream",
     "text": [
      "Processing:  73%|███████▎  | 47001/64021 [2:39:27<56:43,  5.00batch/s]  "
     ]
    },
    {
     "name": "stdout",
     "output_type": "stream",
     "text": [
      "\n",
      "[ETA] Remaining time: ~0h 57m\n",
      "\n"
     ]
    },
    {
     "name": "stderr",
     "output_type": "stream",
     "text": [
      "Processing:  74%|███████▍  | 47501/64021 [2:41:08<55:01,  5.00batch/s]"
     ]
    },
    {
     "name": "stdout",
     "output_type": "stream",
     "text": [
      "\n",
      "[ETA] Remaining time: ~0h 56m\n",
      "\n"
     ]
    },
    {
     "name": "stderr",
     "output_type": "stream",
     "text": [
      "Processing:  75%|███████▍  | 48000/64021 [2:42:49<53:52,  4.96batch/s]"
     ]
    },
    {
     "name": "stdout",
     "output_type": "stream",
     "text": [
      "\n",
      "[ETA] Remaining time: ~0h 54m\n",
      "\n"
     ]
    },
    {
     "name": "stderr",
     "output_type": "stream",
     "text": [
      "Processing:  76%|███████▌  | 48501/64021 [2:44:30<52:13,  4.95batch/s]"
     ]
    },
    {
     "name": "stdout",
     "output_type": "stream",
     "text": [
      "\n",
      "[ETA] Remaining time: ~0h 52m\n",
      "\n"
     ]
    },
    {
     "name": "stderr",
     "output_type": "stream",
     "text": [
      "Processing:  77%|███████▋  | 49001/64021 [2:46:10<50:27,  4.96batch/s]"
     ]
    },
    {
     "name": "stdout",
     "output_type": "stream",
     "text": [
      "\n",
      "[ETA] Remaining time: ~0h 50m\n",
      "\n"
     ]
    },
    {
     "name": "stderr",
     "output_type": "stream",
     "text": [
      "Processing:  77%|███████▋  | 49501/64021 [2:47:51<48:58,  4.94batch/s]"
     ]
    },
    {
     "name": "stdout",
     "output_type": "stream",
     "text": [
      "\n",
      "[ETA] Remaining time: ~0h 49m\n",
      "\n"
     ]
    },
    {
     "name": "stderr",
     "output_type": "stream",
     "text": [
      "Processing:  78%|███████▊  | 50001/64021 [2:49:32<47:14,  4.95batch/s]"
     ]
    },
    {
     "name": "stdout",
     "output_type": "stream",
     "text": [
      "\n",
      "[ETA] Remaining time: ~0h 47m\n",
      "\n"
     ]
    },
    {
     "name": "stderr",
     "output_type": "stream",
     "text": [
      "Processing:  79%|███████▉  | 50500/64021 [2:51:13<45:45,  4.92batch/s]"
     ]
    },
    {
     "name": "stdout",
     "output_type": "stream",
     "text": [
      "\n",
      "[ETA] Remaining time: ~0h 45m\n",
      "\n"
     ]
    },
    {
     "name": "stderr",
     "output_type": "stream",
     "text": [
      "Processing:  80%|███████▉  | 51000/64021 [2:52:53<43:25,  5.00batch/s]"
     ]
    },
    {
     "name": "stdout",
     "output_type": "stream",
     "text": [
      "\n",
      "[ETA] Remaining time: ~0h 44m\n",
      "\n"
     ]
    },
    {
     "name": "stderr",
     "output_type": "stream",
     "text": [
      "Processing:  80%|████████  | 51500/64021 [2:54:34<41:30,  5.03batch/s]"
     ]
    },
    {
     "name": "stdout",
     "output_type": "stream",
     "text": [
      "\n",
      "[ETA] Remaining time: ~0h 42m\n",
      "\n"
     ]
    },
    {
     "name": "stderr",
     "output_type": "stream",
     "text": [
      "Processing:  81%|████████  | 52001/64021 [2:56:15<40:13,  4.98batch/s]"
     ]
    },
    {
     "name": "stdout",
     "output_type": "stream",
     "text": [
      "\n",
      "[ETA] Remaining time: ~0h 40m\n",
      "\n"
     ]
    },
    {
     "name": "stderr",
     "output_type": "stream",
     "text": [
      "Processing:  82%|████████▏ | 52501/64021 [2:57:55<38:23,  5.00batch/s]"
     ]
    },
    {
     "name": "stdout",
     "output_type": "stream",
     "text": [
      "\n",
      "[ETA] Remaining time: ~0h 39m\n",
      "\n"
     ]
    },
    {
     "name": "stderr",
     "output_type": "stream",
     "text": [
      "Processing:  83%|████████▎ | 53001/64021 [2:59:36<36:50,  4.98batch/s]"
     ]
    },
    {
     "name": "stdout",
     "output_type": "stream",
     "text": [
      "\n",
      "[ETA] Remaining time: ~0h 37m\n",
      "\n"
     ]
    },
    {
     "name": "stderr",
     "output_type": "stream",
     "text": [
      "Processing:  84%|████████▎ | 53500/64021 [3:01:16<35:09,  4.99batch/s]"
     ]
    },
    {
     "name": "stdout",
     "output_type": "stream",
     "text": [
      "\n",
      "[ETA] Remaining time: ~0h 35m\n",
      "\n"
     ]
    },
    {
     "name": "stderr",
     "output_type": "stream",
     "text": [
      "Processing:  84%|████████▍ | 54000/64021 [3:02:56<33:32,  4.98batch/s]"
     ]
    },
    {
     "name": "stdout",
     "output_type": "stream",
     "text": [
      "\n",
      "[ETA] Remaining time: ~0h 33m\n",
      "\n"
     ]
    },
    {
     "name": "stderr",
     "output_type": "stream",
     "text": [
      "Processing:  85%|████████▌ | 54500/64021 [3:04:37<31:46,  4.99batch/s]"
     ]
    },
    {
     "name": "stdout",
     "output_type": "stream",
     "text": [
      "\n",
      "[ETA] Remaining time: ~0h 32m\n",
      "\n"
     ]
    },
    {
     "name": "stderr",
     "output_type": "stream",
     "text": [
      "Processing:  86%|████████▌ | 55000/64021 [3:06:18<32:02,  4.69batch/s]"
     ]
    },
    {
     "name": "stdout",
     "output_type": "stream",
     "text": [
      "\n",
      "[ETA] Remaining time: ~0h 30m\n",
      "\n"
     ]
    },
    {
     "name": "stderr",
     "output_type": "stream",
     "text": [
      "Processing:  87%|████████▋ | 55501/64021 [3:07:58<28:38,  4.96batch/s]"
     ]
    },
    {
     "name": "stdout",
     "output_type": "stream",
     "text": [
      "\n",
      "[ETA] Remaining time: ~0h 28m\n",
      "\n"
     ]
    },
    {
     "name": "stderr",
     "output_type": "stream",
     "text": [
      "Processing:  87%|████████▋ | 56001/64021 [3:09:39<26:51,  4.98batch/s]"
     ]
    },
    {
     "name": "stdout",
     "output_type": "stream",
     "text": [
      "\n",
      "[ETA] Remaining time: ~0h 27m\n",
      "\n"
     ]
    },
    {
     "name": "stderr",
     "output_type": "stream",
     "text": [
      "Processing:  88%|████████▊ | 56500/64021 [3:11:19<25:06,  4.99batch/s]"
     ]
    },
    {
     "name": "stdout",
     "output_type": "stream",
     "text": [
      "\n",
      "[ETA] Remaining time: ~0h 25m\n",
      "\n"
     ]
    },
    {
     "name": "stderr",
     "output_type": "stream",
     "text": [
      "Processing:  89%|████████▉ | 57001/64021 [3:13:00<23:22,  5.01batch/s]"
     ]
    },
    {
     "name": "stdout",
     "output_type": "stream",
     "text": [
      "\n",
      "[ETA] Remaining time: ~0h 23m\n",
      "\n"
     ]
    },
    {
     "name": "stderr",
     "output_type": "stream",
     "text": [
      "Processing:  90%|████████▉ | 57500/64021 [3:14:40<21:51,  4.97batch/s]"
     ]
    },
    {
     "name": "stdout",
     "output_type": "stream",
     "text": [
      "\n",
      "[ETA] Remaining time: ~0h 22m\n",
      "\n"
     ]
    },
    {
     "name": "stderr",
     "output_type": "stream",
     "text": [
      "Processing:  91%|█████████ | 58001/64021 [3:16:21<20:11,  4.97batch/s]"
     ]
    },
    {
     "name": "stdout",
     "output_type": "stream",
     "text": [
      "\n",
      "[ETA] Remaining time: ~0h 20m\n",
      "\n"
     ]
    },
    {
     "name": "stderr",
     "output_type": "stream",
     "text": [
      "Processing:  91%|█████████▏| 58500/64021 [3:18:01<18:38,  4.94batch/s]"
     ]
    },
    {
     "name": "stdout",
     "output_type": "stream",
     "text": [
      "\n",
      "[ETA] Remaining time: ~0h 18m\n",
      "\n"
     ]
    },
    {
     "name": "stderr",
     "output_type": "stream",
     "text": [
      "Processing:  92%|█████████▏| 59000/64021 [3:19:42<16:54,  4.95batch/s]"
     ]
    },
    {
     "name": "stdout",
     "output_type": "stream",
     "text": [
      "\n",
      "[ETA] Remaining time: ~0h 16m\n",
      "\n"
     ]
    },
    {
     "name": "stderr",
     "output_type": "stream",
     "text": [
      "Processing:  93%|█████████▎| 59500/64021 [3:21:22<15:13,  4.95batch/s]"
     ]
    },
    {
     "name": "stdout",
     "output_type": "stream",
     "text": [
      "\n",
      "[ETA] Remaining time: ~0h 15m\n",
      "\n"
     ]
    },
    {
     "name": "stderr",
     "output_type": "stream",
     "text": [
      "Processing:  94%|█████████▎| 60000/64021 [3:23:03<13:27,  4.98batch/s]"
     ]
    },
    {
     "name": "stdout",
     "output_type": "stream",
     "text": [
      "\n",
      "[ETA] Remaining time: ~0h 13m\n",
      "\n"
     ]
    },
    {
     "name": "stderr",
     "output_type": "stream",
     "text": [
      "Processing:  95%|█████████▍| 60501/64021 [3:24:44<11:49,  4.96batch/s]"
     ]
    },
    {
     "name": "stdout",
     "output_type": "stream",
     "text": [
      "\n",
      "[ETA] Remaining time: ~0h 11m\n",
      "\n"
     ]
    },
    {
     "name": "stderr",
     "output_type": "stream",
     "text": [
      "Processing:  95%|█████████▌| 61001/64021 [3:26:25<10:16,  4.90batch/s]"
     ]
    },
    {
     "name": "stdout",
     "output_type": "stream",
     "text": [
      "\n",
      "[ETA] Remaining time: ~0h 10m\n",
      "\n"
     ]
    },
    {
     "name": "stderr",
     "output_type": "stream",
     "text": [
      "Processing:  96%|█████████▌| 61500/64021 [3:28:05<08:32,  4.92batch/s]"
     ]
    },
    {
     "name": "stdout",
     "output_type": "stream",
     "text": [
      "\n",
      "[ETA] Remaining time: ~0h 8m\n",
      "\n"
     ]
    },
    {
     "name": "stderr",
     "output_type": "stream",
     "text": [
      "Processing:  97%|█████████▋| 62000/64021 [3:29:47<06:50,  4.92batch/s]"
     ]
    },
    {
     "name": "stdout",
     "output_type": "stream",
     "text": [
      "\n",
      "[ETA] Remaining time: ~0h 6m\n",
      "\n"
     ]
    },
    {
     "name": "stderr",
     "output_type": "stream",
     "text": [
      "Processing:  98%|█████████▊| 62500/64021 [3:31:28<05:11,  4.88batch/s]"
     ]
    },
    {
     "name": "stdout",
     "output_type": "stream",
     "text": [
      "\n",
      "[ETA] Remaining time: ~0h 5m\n",
      "\n"
     ]
    },
    {
     "name": "stderr",
     "output_type": "stream",
     "text": [
      "Processing:  98%|█████████▊| 63001/64021 [3:33:10<03:27,  4.91batch/s]"
     ]
    },
    {
     "name": "stdout",
     "output_type": "stream",
     "text": [
      "\n",
      "[ETA] Remaining time: ~0h 3m\n",
      "\n"
     ]
    },
    {
     "name": "stderr",
     "output_type": "stream",
     "text": [
      "Processing:  99%|█████████▉| 63501/64021 [3:34:52<01:45,  4.91batch/s]"
     ]
    },
    {
     "name": "stdout",
     "output_type": "stream",
     "text": [
      "\n",
      "[ETA] Remaining time: ~0h 1m\n",
      "\n"
     ]
    },
    {
     "name": "stderr",
     "output_type": "stream",
     "text": [
      "Processing: 100%|█████████▉| 64000/64021 [3:36:34<00:04,  4.92batch/s]"
     ]
    },
    {
     "name": "stdout",
     "output_type": "stream",
     "text": [
      "\n",
      "[ETA] Remaining time: ~0h 0m\n",
      "\n"
     ]
    },
    {
     "name": "stderr",
     "output_type": "stream",
     "text": [
      "Processing: 100%|██████████| 64021/64021 [3:36:38<00:00,  4.93batch/s]\n"
     ]
    },
    {
     "name": "stdout",
     "output_type": "stream",
     "text": [
      "Total comments: 4725012\n",
      "Toxic comments: 0 saved to toxic_sample.csv\n",
      "Non-toxic comments: 50 saved to non_toxic_sample.csv\n"
     ]
    }
   ],
   "source": [
    "\n",
    "# -----------------------------\n",
    "# Custom Dataset\n",
    "# -----------------------------\n",
    "class CommentDataset(Dataset):\n",
    "    def __init__(self, texts, tokenizer, max_len=128):\n",
    "        self.texts = texts\n",
    "        self.tokenizer = tokenizer\n",
    "        self.max_len = max_len\n",
    "    \n",
    "    def __len__(self):\n",
    "        return len(self.texts)\n",
    "    \n",
    "    def __getitem__(self, idx):\n",
    "        encoding = self.tokenizer(\n",
    "            self.texts[idx],\n",
    "            truncation=True,\n",
    "            padding=\"max_length\",\n",
    "            max_length=self.max_len,\n",
    "            return_tensors=\"pt\"\n",
    "        )\n",
    "        return {key: val.squeeze(0) for key, val in encoding.items()}\n",
    "\n",
    "# -----------------------------\n",
    "# Load model + tokenizer on GPU\n",
    "# -----------------------------\n",
    "device = 0 if torch.cuda.is_available() else -1\n",
    "print(\"Using device:\", \"GPU\" if device == 0 else \"CPU\")\n",
    "\n",
    "tokenizer = AutoTokenizer.from_pretrained(\"unitary/toxic-bert\")\n",
    "model = AutoModelForSequenceClassification.from_pretrained(\"unitary/toxic-bert\")\n",
    "if device == 0:\n",
    "    model = model.to(\"cuda\")\n",
    "\n",
    "# -----------------------------\n",
    "# Prepare Data\n",
    "# -----------------------------\n",
    "texts = df_top_comments['textOriginal'].astype(str).tolist()\n",
    "dataset = CommentDataset(texts, tokenizer)\n",
    "loader = DataLoader(dataset, batch_size=32, shuffle=False)\n",
    "\n",
    "# -----------------------------\n",
    "# Inference with ETA logging\n",
    "# -----------------------------\n",
    "all_preds = []\n",
    "all_scores = []\n",
    "\n",
    "model.eval()\n",
    "start_time = time.time()\n",
    "total_batches = len(loader)\n",
    "\n",
    "with torch.no_grad():\n",
    "    for i, batch in enumerate(tqdm(loader, desc=\"Processing\", unit=\"batch\")):\n",
    "        input_ids = batch[\"input_ids\"].to(\"cuda\" if device == 0 else \"cpu\")\n",
    "        attention_mask = batch[\"attention_mask\"].to(\"cuda\" if device == 0 else \"cpu\")\n",
    "\n",
    "        outputs = model(input_ids=input_ids, attention_mask=attention_mask)\n",
    "        probs = torch.softmax(outputs.logits, dim=1)\n",
    "        preds = torch.argmax(probs, dim=1)\n",
    "\n",
    "        all_preds.extend(preds.cpu().numpy())\n",
    "        all_scores.extend(probs[:, 1].cpu().numpy())\n",
    "\n",
    "        # --- ETA log every 500 batches ---\n",
    "        if (i + 1) % 500 == 0:\n",
    "            elapsed = time.time() - start_time\n",
    "            avg_time_per_batch = elapsed / (i + 1)\n",
    "            remaining_batches = total_batches - (i + 1)\n",
    "            eta_seconds = remaining_batches * avg_time_per_batch\n",
    "            hrs = int(eta_seconds // 3600)\n",
    "            mins = int((eta_seconds % 3600) // 60)\n",
    "            print(f\"\\n[ETA] Remaining time: ~{hrs}h {mins}m\\n\")\n",
    "# -----------------------------\n",
    "# Attach to DataFrame\n",
    "# -----------------------------\n",
    "df_top_comments[\"predicted_label\"] = all_preds\n",
    "df_top_comments[\"score\"] = all_scores\n",
    "\n",
    "# -----------------------------\n",
    "# Save 50 toxic & 50 non-toxic\n",
    "# -----------------------------\n",
    "toxic_sample = df_top_comments[df_top_comments['predicted_label'] == 1].head(50)\n",
    "non_toxic_sample = df_top_comments[df_top_comments['predicted_label'] == 0].head(50)\n",
    "\n",
    "toxic_sample.to_csv(\"toxic_sample.csv\", index=False)\n",
    "non_toxic_sample.to_csv(\"non_toxic_sample.csv\", index=False)\n",
    "\n",
    "print(f\"Total comments: {len(df_comments)}\")\n",
    "print(f\"Toxic comments: {len(toxic_sample)} saved to toxic_sample.csv\")\n",
    "print(f\"Non-toxic comments: {len(non_toxic_sample)} saved to non_toxic_sample.csv\")\n"
   ]
  },
  {
   "cell_type": "code",
   "execution_count": 26,
   "id": "03e417cf",
   "metadata": {},
   "outputs": [],
   "source": [
    "def format_time(seconds):\n",
    "    \"\"\"Convert seconds to HH:MM:SS string.\"\"\"\n",
    "    h = int(seconds // 3600)\n",
    "    m = int((seconds % 3600) // 60)\n",
    "    s = int(seconds % 60)\n",
    "    return f\"{h:02d}:{m:02d}:{s:02d}\""
   ]
  },
  {
   "cell_type": "code",
   "execution_count": 27,
   "id": "3e32e73c",
   "metadata": {},
   "outputs": [
    {
     "name": "stdout",
     "output_type": "stream",
     "text": [
      "Loading model and tokenizer...\n",
      "\n",
      "Test prompt:\n",
      "\n",
      "Using device: GPU\n"
     ]
    },
    {
     "name": "stderr",
     "output_type": "stream",
     "text": [
      "Processing:   1%|          | 101/8991 [00:17<25:21,  5.84it/s]"
     ]
    },
    {
     "name": "stdout",
     "output_type": "stream",
     "text": [
      "[Batch 100/8991] ETA: 00:25:07\n"
     ]
    },
    {
     "name": "stderr",
     "output_type": "stream",
     "text": [
      "Processing:   2%|▏         | 200/8991 [00:34<26:04,  5.62it/s]"
     ]
    },
    {
     "name": "stdout",
     "output_type": "stream",
     "text": [
      "[Batch 200/8991] ETA: 00:25:12\n"
     ]
    },
    {
     "name": "stderr",
     "output_type": "stream",
     "text": [
      "Processing:   3%|▎         | 301/8991 [00:52<25:55,  5.59it/s]"
     ]
    },
    {
     "name": "stdout",
     "output_type": "stream",
     "text": [
      "[Batch 300/8991] ETA: 00:25:13\n"
     ]
    },
    {
     "name": "stderr",
     "output_type": "stream",
     "text": [
      "Processing:   4%|▍         | 401/8991 [01:10<26:06,  5.48it/s]"
     ]
    },
    {
     "name": "stdout",
     "output_type": "stream",
     "text": [
      "[Batch 400/8991] ETA: 00:25:11\n"
     ]
    },
    {
     "name": "stderr",
     "output_type": "stream",
     "text": [
      "Processing:   6%|▌         | 500/8991 [01:28<26:07,  5.42it/s]"
     ]
    },
    {
     "name": "stdout",
     "output_type": "stream",
     "text": [
      "[Batch 500/8991] ETA: 00:25:07\n"
     ]
    },
    {
     "name": "stderr",
     "output_type": "stream",
     "text": [
      "Processing:   7%|▋         | 601/8991 [01:47<26:05,  5.36it/s]"
     ]
    },
    {
     "name": "stdout",
     "output_type": "stream",
     "text": [
      "[Batch 600/8991] ETA: 00:25:01\n"
     ]
    },
    {
     "name": "stderr",
     "output_type": "stream",
     "text": [
      "Processing:   8%|▊         | 701/8991 [02:06<25:43,  5.37it/s]"
     ]
    },
    {
     "name": "stdout",
     "output_type": "stream",
     "text": [
      "[Batch 700/8991] ETA: 00:24:53\n"
     ]
    },
    {
     "name": "stderr",
     "output_type": "stream",
     "text": [
      "Processing:   9%|▉         | 801/8991 [02:25<25:47,  5.29it/s]"
     ]
    },
    {
     "name": "stdout",
     "output_type": "stream",
     "text": [
      "[Batch 800/8991] ETA: 00:24:43\n"
     ]
    },
    {
     "name": "stderr",
     "output_type": "stream",
     "text": [
      "Processing:  10%|█         | 900/8991 [02:43<25:45,  5.23it/s]"
     ]
    },
    {
     "name": "stdout",
     "output_type": "stream",
     "text": [
      "[Batch 900/8991] ETA: 00:24:32\n"
     ]
    },
    {
     "name": "stderr",
     "output_type": "stream",
     "text": [
      "Processing:  11%|█         | 1001/8991 [03:02<25:19,  5.26it/s]"
     ]
    },
    {
     "name": "stdout",
     "output_type": "stream",
     "text": [
      "[Batch 1000/8991] ETA: 00:24:20\n"
     ]
    },
    {
     "name": "stderr",
     "output_type": "stream",
     "text": [
      "Processing:  12%|█▏        | 1100/8991 [03:21<24:50,  5.29it/s]"
     ]
    },
    {
     "name": "stdout",
     "output_type": "stream",
     "text": [
      "[Batch 1100/8991] ETA: 00:24:07\n"
     ]
    },
    {
     "name": "stderr",
     "output_type": "stream",
     "text": [
      "Processing:  13%|█▎        | 1200/8991 [03:40<24:42,  5.25it/s]"
     ]
    },
    {
     "name": "stdout",
     "output_type": "stream",
     "text": [
      "[Batch 1200/8991] ETA: 00:23:53\n"
     ]
    },
    {
     "name": "stderr",
     "output_type": "stream",
     "text": [
      "Processing:  14%|█▍        | 1301/8991 [03:59<24:22,  5.26it/s]"
     ]
    },
    {
     "name": "stdout",
     "output_type": "stream",
     "text": [
      "[Batch 1300/8991] ETA: 00:23:38\n"
     ]
    },
    {
     "name": "stderr",
     "output_type": "stream",
     "text": [
      "Processing:  16%|█▌        | 1401/8991 [04:18<23:54,  5.29it/s]"
     ]
    },
    {
     "name": "stdout",
     "output_type": "stream",
     "text": [
      "[Batch 1400/8991] ETA: 00:23:22\n"
     ]
    },
    {
     "name": "stderr",
     "output_type": "stream",
     "text": [
      "Processing:  17%|█▋        | 1501/8991 [04:37<23:45,  5.26it/s]"
     ]
    },
    {
     "name": "stdout",
     "output_type": "stream",
     "text": [
      "[Batch 1500/8991] ETA: 00:23:06\n"
     ]
    },
    {
     "name": "stderr",
     "output_type": "stream",
     "text": [
      "Processing:  18%|█▊        | 1600/8991 [04:56<23:28,  5.25it/s]"
     ]
    },
    {
     "name": "stdout",
     "output_type": "stream",
     "text": [
      "[Batch 1600/8991] ETA: 00:22:50\n"
     ]
    },
    {
     "name": "stderr",
     "output_type": "stream",
     "text": [
      "Processing:  19%|█▉        | 1700/8991 [05:15<23:02,  5.27it/s]"
     ]
    },
    {
     "name": "stdout",
     "output_type": "stream",
     "text": [
      "[Batch 1700/8991] ETA: 00:22:34\n"
     ]
    },
    {
     "name": "stderr",
     "output_type": "stream",
     "text": [
      "Processing:  20%|██        | 1801/8991 [05:34<22:43,  5.27it/s]"
     ]
    },
    {
     "name": "stdout",
     "output_type": "stream",
     "text": [
      "[Batch 1800/8991] ETA: 00:22:17\n"
     ]
    },
    {
     "name": "stderr",
     "output_type": "stream",
     "text": [
      "Processing:  21%|██        | 1900/8991 [05:53<22:24,  5.27it/s]"
     ]
    },
    {
     "name": "stdout",
     "output_type": "stream",
     "text": [
      "[Batch 1900/8991] ETA: 00:22:00\n"
     ]
    },
    {
     "name": "stderr",
     "output_type": "stream",
     "text": [
      "Processing:  22%|██▏       | 2001/8991 [06:12<22:13,  5.24it/s]"
     ]
    },
    {
     "name": "stdout",
     "output_type": "stream",
     "text": [
      "[Batch 2000/8991] ETA: 00:21:42\n"
     ]
    },
    {
     "name": "stderr",
     "output_type": "stream",
     "text": [
      "Processing:  23%|██▎       | 2100/8991 [06:31<21:53,  5.25it/s]"
     ]
    },
    {
     "name": "stdout",
     "output_type": "stream",
     "text": [
      "[Batch 2100/8991] ETA: 00:21:25\n"
     ]
    },
    {
     "name": "stderr",
     "output_type": "stream",
     "text": [
      "Processing:  24%|██▍       | 2201/8991 [06:50<21:35,  5.24it/s]"
     ]
    },
    {
     "name": "stdout",
     "output_type": "stream",
     "text": [
      "[Batch 2200/8991] ETA: 00:21:07\n"
     ]
    },
    {
     "name": "stderr",
     "output_type": "stream",
     "text": [
      "Processing:  26%|██▌       | 2301/8991 [07:10<21:17,  5.24it/s]"
     ]
    },
    {
     "name": "stdout",
     "output_type": "stream",
     "text": [
      "[Batch 2300/8991] ETA: 00:20:50\n"
     ]
    },
    {
     "name": "stderr",
     "output_type": "stream",
     "text": [
      "Processing:  27%|██▋       | 2401/8991 [07:29<20:56,  5.24it/s]"
     ]
    },
    {
     "name": "stdout",
     "output_type": "stream",
     "text": [
      "[Batch 2400/8991] ETA: 00:20:32\n"
     ]
    },
    {
     "name": "stderr",
     "output_type": "stream",
     "text": [
      "Processing:  28%|██▊       | 2501/8991 [07:48<20:34,  5.26it/s]"
     ]
    },
    {
     "name": "stdout",
     "output_type": "stream",
     "text": [
      "[Batch 2500/8991] ETA: 00:20:14\n"
     ]
    },
    {
     "name": "stderr",
     "output_type": "stream",
     "text": [
      "Processing:  29%|██▉       | 2601/8991 [08:07<20:10,  5.28it/s]"
     ]
    },
    {
     "name": "stdout",
     "output_type": "stream",
     "text": [
      "[Batch 2600/8991] ETA: 00:19:56\n"
     ]
    },
    {
     "name": "stderr",
     "output_type": "stream",
     "text": [
      "Processing:  30%|███       | 2701/8991 [08:26<19:54,  5.27it/s]"
     ]
    },
    {
     "name": "stdout",
     "output_type": "stream",
     "text": [
      "[Batch 2700/8991] ETA: 00:19:38\n"
     ]
    },
    {
     "name": "stderr",
     "output_type": "stream",
     "text": [
      "Processing:  31%|███       | 2800/8991 [08:44<19:41,  5.24it/s]"
     ]
    },
    {
     "name": "stdout",
     "output_type": "stream",
     "text": [
      "[Batch 2800/8991] ETA: 00:19:20\n"
     ]
    },
    {
     "name": "stderr",
     "output_type": "stream",
     "text": [
      "Processing:  32%|███▏      | 2901/8991 [09:04<19:23,  5.24it/s]"
     ]
    },
    {
     "name": "stdout",
     "output_type": "stream",
     "text": [
      "[Batch 2900/8991] ETA: 00:19:02\n"
     ]
    },
    {
     "name": "stderr",
     "output_type": "stream",
     "text": [
      "Processing:  33%|███▎      | 3001/8991 [09:23<19:03,  5.24it/s]"
     ]
    },
    {
     "name": "stdout",
     "output_type": "stream",
     "text": [
      "[Batch 3000/8991] ETA: 00:18:44\n"
     ]
    },
    {
     "name": "stderr",
     "output_type": "stream",
     "text": [
      "Processing:  34%|███▍      | 3100/8991 [09:42<18:42,  5.25it/s]"
     ]
    },
    {
     "name": "stdout",
     "output_type": "stream",
     "text": [
      "[Batch 3100/8991] ETA: 00:18:26\n"
     ]
    },
    {
     "name": "stderr",
     "output_type": "stream",
     "text": [
      "Processing:  36%|███▌      | 3201/8991 [10:01<18:21,  5.26it/s]"
     ]
    },
    {
     "name": "stdout",
     "output_type": "stream",
     "text": [
      "[Batch 3200/8991] ETA: 00:18:07\n"
     ]
    },
    {
     "name": "stderr",
     "output_type": "stream",
     "text": [
      "Processing:  37%|███▋      | 3301/8991 [10:20<18:01,  5.26it/s]"
     ]
    },
    {
     "name": "stdout",
     "output_type": "stream",
     "text": [
      "[Batch 3300/8991] ETA: 00:17:49\n"
     ]
    },
    {
     "name": "stderr",
     "output_type": "stream",
     "text": [
      "Processing:  38%|███▊      | 3400/8991 [10:39<17:36,  5.29it/s]"
     ]
    },
    {
     "name": "stdout",
     "output_type": "stream",
     "text": [
      "[Batch 3400/8991] ETA: 00:17:31\n"
     ]
    },
    {
     "name": "stderr",
     "output_type": "stream",
     "text": [
      "Processing:  39%|███▉      | 3500/8991 [10:58<17:17,  5.29it/s]"
     ]
    },
    {
     "name": "stdout",
     "output_type": "stream",
     "text": [
      "[Batch 3500/8991] ETA: 00:17:12\n"
     ]
    },
    {
     "name": "stderr",
     "output_type": "stream",
     "text": [
      "Processing:  40%|████      | 3600/8991 [11:17<17:02,  5.27it/s]"
     ]
    },
    {
     "name": "stdout",
     "output_type": "stream",
     "text": [
      "[Batch 3600/8991] ETA: 00:16:54\n"
     ]
    },
    {
     "name": "stderr",
     "output_type": "stream",
     "text": [
      "Processing:  41%|████      | 3701/8991 [11:36<16:44,  5.27it/s]"
     ]
    },
    {
     "name": "stdout",
     "output_type": "stream",
     "text": [
      "[Batch 3700/8991] ETA: 00:16:35\n"
     ]
    },
    {
     "name": "stderr",
     "output_type": "stream",
     "text": [
      "Processing:  42%|████▏     | 3801/8991 [11:55<16:26,  5.26it/s]"
     ]
    },
    {
     "name": "stdout",
     "output_type": "stream",
     "text": [
      "[Batch 3800/8991] ETA: 00:16:17\n"
     ]
    },
    {
     "name": "stderr",
     "output_type": "stream",
     "text": [
      "Processing:  43%|████▎     | 3901/8991 [12:14<16:10,  5.24it/s]"
     ]
    },
    {
     "name": "stdout",
     "output_type": "stream",
     "text": [
      "[Batch 3900/8991] ETA: 00:15:58\n"
     ]
    },
    {
     "name": "stderr",
     "output_type": "stream",
     "text": [
      "Processing:  44%|████▍     | 4000/8991 [12:33<15:56,  5.22it/s]"
     ]
    },
    {
     "name": "stdout",
     "output_type": "stream",
     "text": [
      "[Batch 4000/8991] ETA: 00:15:39\n"
     ]
    },
    {
     "name": "stderr",
     "output_type": "stream",
     "text": [
      "Processing:  46%|████▌     | 4101/8991 [12:52<15:28,  5.27it/s]"
     ]
    },
    {
     "name": "stdout",
     "output_type": "stream",
     "text": [
      "[Batch 4100/8991] ETA: 00:15:21\n"
     ]
    },
    {
     "name": "stderr",
     "output_type": "stream",
     "text": [
      "Processing:  47%|████▋     | 4201/8991 [13:11<15:09,  5.27it/s]"
     ]
    },
    {
     "name": "stdout",
     "output_type": "stream",
     "text": [
      "[Batch 4200/8991] ETA: 00:15:02\n"
     ]
    },
    {
     "name": "stderr",
     "output_type": "stream",
     "text": [
      "Processing:  48%|████▊     | 4300/8991 [13:30<14:57,  5.22it/s]"
     ]
    },
    {
     "name": "stdout",
     "output_type": "stream",
     "text": [
      "[Batch 4300/8991] ETA: 00:14:44\n"
     ]
    },
    {
     "name": "stderr",
     "output_type": "stream",
     "text": [
      "Processing:  49%|████▉     | 4401/8991 [13:49<14:36,  5.24it/s]"
     ]
    },
    {
     "name": "stdout",
     "output_type": "stream",
     "text": [
      "[Batch 4400/8991] ETA: 00:14:25\n"
     ]
    },
    {
     "name": "stderr",
     "output_type": "stream",
     "text": [
      "Processing:  50%|█████     | 4501/8991 [14:08<14:14,  5.25it/s]"
     ]
    },
    {
     "name": "stdout",
     "output_type": "stream",
     "text": [
      "[Batch 4500/8991] ETA: 00:14:06\n"
     ]
    },
    {
     "name": "stderr",
     "output_type": "stream",
     "text": [
      "Processing:  51%|█████     | 4600/8991 [14:27<13:57,  5.25it/s]"
     ]
    },
    {
     "name": "stdout",
     "output_type": "stream",
     "text": [
      "[Batch 4600/8991] ETA: 00:13:48\n"
     ]
    },
    {
     "name": "stderr",
     "output_type": "stream",
     "text": [
      "Processing:  52%|█████▏    | 4700/8991 [14:46<13:38,  5.24it/s]"
     ]
    },
    {
     "name": "stdout",
     "output_type": "stream",
     "text": [
      "[Batch 4700/8991] ETA: 00:13:29\n"
     ]
    },
    {
     "name": "stderr",
     "output_type": "stream",
     "text": [
      "Processing:  53%|█████▎    | 4800/8991 [15:05<13:19,  5.24it/s]"
     ]
    },
    {
     "name": "stdout",
     "output_type": "stream",
     "text": [
      "[Batch 4800/8991] ETA: 00:13:10\n"
     ]
    },
    {
     "name": "stderr",
     "output_type": "stream",
     "text": [
      "Processing:  55%|█████▍    | 4901/8991 [15:25<12:57,  5.26it/s]"
     ]
    },
    {
     "name": "stdout",
     "output_type": "stream",
     "text": [
      "[Batch 4900/8991] ETA: 00:12:52\n"
     ]
    },
    {
     "name": "stderr",
     "output_type": "stream",
     "text": [
      "Processing:  56%|█████▌    | 5001/8991 [15:44<12:47,  5.20it/s]"
     ]
    },
    {
     "name": "stdout",
     "output_type": "stream",
     "text": [
      "[Batch 5000/8991] ETA: 00:12:33\n"
     ]
    },
    {
     "name": "stderr",
     "output_type": "stream",
     "text": [
      "Processing:  57%|█████▋    | 5100/8991 [16:03<12:22,  5.24it/s]"
     ]
    },
    {
     "name": "stdout",
     "output_type": "stream",
     "text": [
      "[Batch 5100/8991] ETA: 00:12:14\n"
     ]
    },
    {
     "name": "stderr",
     "output_type": "stream",
     "text": [
      "Processing:  58%|█████▊    | 5200/8991 [16:22<11:57,  5.29it/s]"
     ]
    },
    {
     "name": "stdout",
     "output_type": "stream",
     "text": [
      "[Batch 5200/8991] ETA: 00:11:56\n"
     ]
    },
    {
     "name": "stderr",
     "output_type": "stream",
     "text": [
      "Processing:  59%|█████▉    | 5301/8991 [16:41<11:37,  5.29it/s]"
     ]
    },
    {
     "name": "stdout",
     "output_type": "stream",
     "text": [
      "[Batch 5300/8991] ETA: 00:11:37\n"
     ]
    },
    {
     "name": "stderr",
     "output_type": "stream",
     "text": [
      "Processing:  60%|██████    | 5400/8991 [17:00<11:29,  5.21it/s]"
     ]
    },
    {
     "name": "stdout",
     "output_type": "stream",
     "text": [
      "[Batch 5400/8991] ETA: 00:11:18\n"
     ]
    },
    {
     "name": "stderr",
     "output_type": "stream",
     "text": [
      "Processing:  61%|██████    | 5500/8991 [17:19<11:04,  5.25it/s]"
     ]
    },
    {
     "name": "stdout",
     "output_type": "stream",
     "text": [
      "[Batch 5500/8991] ETA: 00:10:59\n"
     ]
    },
    {
     "name": "stderr",
     "output_type": "stream",
     "text": [
      "Processing:  62%|██████▏   | 5600/8991 [17:38<10:50,  5.22it/s]"
     ]
    },
    {
     "name": "stdout",
     "output_type": "stream",
     "text": [
      "[Batch 5600/8991] ETA: 00:10:41\n"
     ]
    },
    {
     "name": "stderr",
     "output_type": "stream",
     "text": [
      "Processing:  63%|██████▎   | 5701/8991 [17:57<10:26,  5.25it/s]"
     ]
    },
    {
     "name": "stdout",
     "output_type": "stream",
     "text": [
      "[Batch 5700/8991] ETA: 00:10:22\n"
     ]
    },
    {
     "name": "stderr",
     "output_type": "stream",
     "text": [
      "Processing:  65%|██████▍   | 5800/8991 [18:16<10:03,  5.29it/s]"
     ]
    },
    {
     "name": "stdout",
     "output_type": "stream",
     "text": [
      "[Batch 5800/8991] ETA: 00:10:03\n"
     ]
    },
    {
     "name": "stderr",
     "output_type": "stream",
     "text": [
      "Processing:  66%|██████▌   | 5900/8991 [18:35<09:47,  5.26it/s]"
     ]
    },
    {
     "name": "stdout",
     "output_type": "stream",
     "text": [
      "[Batch 5900/8991] ETA: 00:09:44\n"
     ]
    },
    {
     "name": "stderr",
     "output_type": "stream",
     "text": [
      "Processing:  67%|██████▋   | 6001/8991 [18:55<09:31,  5.23it/s]"
     ]
    },
    {
     "name": "stdout",
     "output_type": "stream",
     "text": [
      "[Batch 6000/8991] ETA: 00:09:25\n"
     ]
    },
    {
     "name": "stderr",
     "output_type": "stream",
     "text": [
      "Processing:  68%|██████▊   | 6101/8991 [19:14<09:11,  5.24it/s]"
     ]
    },
    {
     "name": "stdout",
     "output_type": "stream",
     "text": [
      "[Batch 6100/8991] ETA: 00:09:06\n"
     ]
    },
    {
     "name": "stderr",
     "output_type": "stream",
     "text": [
      "Processing:  69%|██████▉   | 6201/8991 [19:33<08:51,  5.25it/s]"
     ]
    },
    {
     "name": "stdout",
     "output_type": "stream",
     "text": [
      "[Batch 6200/8991] ETA: 00:08:47\n"
     ]
    },
    {
     "name": "stderr",
     "output_type": "stream",
     "text": [
      "Processing:  70%|███████   | 6300/8991 [19:51<08:32,  5.25it/s]"
     ]
    },
    {
     "name": "stdout",
     "output_type": "stream",
     "text": [
      "[Batch 6300/8991] ETA: 00:08:29\n"
     ]
    },
    {
     "name": "stderr",
     "output_type": "stream",
     "text": [
      "Processing:  71%|███████   | 6401/8991 [20:11<08:14,  5.24it/s]"
     ]
    },
    {
     "name": "stdout",
     "output_type": "stream",
     "text": [
      "[Batch 6400/8991] ETA: 00:08:10\n"
     ]
    },
    {
     "name": "stderr",
     "output_type": "stream",
     "text": [
      "Processing:  72%|███████▏  | 6500/8991 [20:30<07:55,  5.24it/s]"
     ]
    },
    {
     "name": "stdout",
     "output_type": "stream",
     "text": [
      "[Batch 6500/8991] ETA: 00:07:51\n"
     ]
    },
    {
     "name": "stderr",
     "output_type": "stream",
     "text": [
      "Processing:  73%|███████▎  | 6600/8991 [20:49<07:32,  5.29it/s]"
     ]
    },
    {
     "name": "stdout",
     "output_type": "stream",
     "text": [
      "[Batch 6600/8991] ETA: 00:07:32\n"
     ]
    },
    {
     "name": "stderr",
     "output_type": "stream",
     "text": [
      "Processing:  75%|███████▍  | 6701/8991 [21:08<07:20,  5.20it/s]"
     ]
    },
    {
     "name": "stdout",
     "output_type": "stream",
     "text": [
      "[Batch 6700/8991] ETA: 00:07:13\n"
     ]
    },
    {
     "name": "stderr",
     "output_type": "stream",
     "text": [
      "Processing:  76%|███████▌  | 6800/8991 [21:27<06:57,  5.25it/s]"
     ]
    },
    {
     "name": "stdout",
     "output_type": "stream",
     "text": [
      "[Batch 6800/8991] ETA: 00:06:54\n"
     ]
    },
    {
     "name": "stderr",
     "output_type": "stream",
     "text": [
      "Processing:  77%|███████▋  | 6900/8991 [21:46<06:37,  5.26it/s]"
     ]
    },
    {
     "name": "stdout",
     "output_type": "stream",
     "text": [
      "[Batch 6900/8991] ETA: 00:06:35\n"
     ]
    },
    {
     "name": "stderr",
     "output_type": "stream",
     "text": [
      "Processing:  78%|███████▊  | 7001/8991 [22:05<06:18,  5.26it/s]"
     ]
    },
    {
     "name": "stdout",
     "output_type": "stream",
     "text": [
      "[Batch 7000/8991] ETA: 00:06:16\n"
     ]
    },
    {
     "name": "stderr",
     "output_type": "stream",
     "text": [
      "Processing:  79%|███████▉  | 7101/8991 [22:24<06:01,  5.23it/s]"
     ]
    },
    {
     "name": "stdout",
     "output_type": "stream",
     "text": [
      "[Batch 7100/8991] ETA: 00:05:58\n"
     ]
    },
    {
     "name": "stderr",
     "output_type": "stream",
     "text": [
      "Processing:  80%|████████  | 7201/8991 [22:43<05:41,  5.25it/s]"
     ]
    },
    {
     "name": "stdout",
     "output_type": "stream",
     "text": [
      "[Batch 7200/8991] ETA: 00:05:39\n"
     ]
    },
    {
     "name": "stderr",
     "output_type": "stream",
     "text": [
      "Processing:  81%|████████  | 7300/8991 [23:02<05:23,  5.23it/s]"
     ]
    },
    {
     "name": "stdout",
     "output_type": "stream",
     "text": [
      "[Batch 7300/8991] ETA: 00:05:20\n"
     ]
    },
    {
     "name": "stderr",
     "output_type": "stream",
     "text": [
      "Processing:  82%|████████▏ | 7400/8991 [23:21<05:04,  5.22it/s]"
     ]
    },
    {
     "name": "stdout",
     "output_type": "stream",
     "text": [
      "[Batch 7400/8991] ETA: 00:05:01\n"
     ]
    },
    {
     "name": "stderr",
     "output_type": "stream",
     "text": [
      "Processing:  83%|████████▎ | 7500/8991 [23:40<04:44,  5.25it/s]"
     ]
    },
    {
     "name": "stdout",
     "output_type": "stream",
     "text": [
      "[Batch 7500/8991] ETA: 00:04:42\n"
     ]
    },
    {
     "name": "stderr",
     "output_type": "stream",
     "text": [
      "Processing:  85%|████████▍ | 7601/8991 [23:59<04:24,  5.25it/s]"
     ]
    },
    {
     "name": "stdout",
     "output_type": "stream",
     "text": [
      "[Batch 7600/8991] ETA: 00:04:23\n"
     ]
    },
    {
     "name": "stderr",
     "output_type": "stream",
     "text": [
      "Processing:  86%|████████▌ | 7701/8991 [24:18<04:04,  5.27it/s]"
     ]
    },
    {
     "name": "stdout",
     "output_type": "stream",
     "text": [
      "[Batch 7700/8991] ETA: 00:04:04\n"
     ]
    },
    {
     "name": "stderr",
     "output_type": "stream",
     "text": [
      "Processing:  87%|████████▋ | 7800/8991 [24:37<03:46,  5.26it/s]"
     ]
    },
    {
     "name": "stdout",
     "output_type": "stream",
     "text": [
      "[Batch 7800/8991] ETA: 00:03:45\n"
     ]
    },
    {
     "name": "stderr",
     "output_type": "stream",
     "text": [
      "Processing:  88%|████████▊ | 7901/8991 [24:57<03:28,  5.24it/s]"
     ]
    },
    {
     "name": "stdout",
     "output_type": "stream",
     "text": [
      "[Batch 7900/8991] ETA: 00:03:26\n"
     ]
    },
    {
     "name": "stderr",
     "output_type": "stream",
     "text": [
      "Processing:  89%|████████▉ | 8001/8991 [25:16<03:08,  5.25it/s]"
     ]
    },
    {
     "name": "stdout",
     "output_type": "stream",
     "text": [
      "[Batch 8000/8991] ETA: 00:03:07\n"
     ]
    },
    {
     "name": "stderr",
     "output_type": "stream",
     "text": [
      "Processing:  90%|█████████ | 8100/8991 [25:34<02:48,  5.27it/s]"
     ]
    },
    {
     "name": "stdout",
     "output_type": "stream",
     "text": [
      "[Batch 8100/8991] ETA: 00:02:48\n"
     ]
    },
    {
     "name": "stderr",
     "output_type": "stream",
     "text": [
      "Processing:  91%|█████████ | 8201/8991 [25:54<02:29,  5.28it/s]"
     ]
    },
    {
     "name": "stdout",
     "output_type": "stream",
     "text": [
      "[Batch 8200/8991] ETA: 00:02:29\n"
     ]
    },
    {
     "name": "stderr",
     "output_type": "stream",
     "text": [
      "Processing:  92%|█████████▏| 8300/8991 [26:12<02:12,  5.23it/s]"
     ]
    },
    {
     "name": "stdout",
     "output_type": "stream",
     "text": [
      "[Batch 8300/8991] ETA: 00:02:10\n"
     ]
    },
    {
     "name": "stderr",
     "output_type": "stream",
     "text": [
      "Processing:  93%|█████████▎| 8400/8991 [26:31<01:51,  5.28it/s]"
     ]
    },
    {
     "name": "stdout",
     "output_type": "stream",
     "text": [
      "[Batch 8400/8991] ETA: 00:01:52\n"
     ]
    },
    {
     "name": "stderr",
     "output_type": "stream",
     "text": [
      "Processing:  95%|█████████▍| 8501/8991 [26:51<01:33,  5.23it/s]"
     ]
    },
    {
     "name": "stdout",
     "output_type": "stream",
     "text": [
      "[Batch 8500/8991] ETA: 00:01:33\n"
     ]
    },
    {
     "name": "stderr",
     "output_type": "stream",
     "text": [
      "Processing:  96%|█████████▌| 8601/8991 [27:10<01:14,  5.24it/s]"
     ]
    },
    {
     "name": "stdout",
     "output_type": "stream",
     "text": [
      "[Batch 8600/8991] ETA: 00:01:14\n"
     ]
    },
    {
     "name": "stderr",
     "output_type": "stream",
     "text": [
      "Processing:  97%|█████████▋| 8701/8991 [27:29<00:55,  5.25it/s]"
     ]
    },
    {
     "name": "stdout",
     "output_type": "stream",
     "text": [
      "[Batch 8700/8991] ETA: 00:00:55\n"
     ]
    },
    {
     "name": "stderr",
     "output_type": "stream",
     "text": [
      "Processing:  98%|█████████▊| 8801/8991 [27:48<00:36,  5.26it/s]"
     ]
    },
    {
     "name": "stdout",
     "output_type": "stream",
     "text": [
      "[Batch 8800/8991] ETA: 00:00:36\n"
     ]
    },
    {
     "name": "stderr",
     "output_type": "stream",
     "text": [
      "Processing:  99%|█████████▉| 8901/8991 [28:07<00:17,  5.24it/s]"
     ]
    },
    {
     "name": "stdout",
     "output_type": "stream",
     "text": [
      "[Batch 8900/8991] ETA: 00:00:17\n"
     ]
    },
    {
     "name": "stderr",
     "output_type": "stream",
     "text": [
      "Processing: 100%|██████████| 8991/8991 [28:24<00:00,  5.28it/s]\n"
     ]
    },
    {
     "name": "stdout",
     "output_type": "stream",
     "text": [
      "Saved sentiment_results.csv ✅\n"
     ]
    }
   ],
   "source": [
    "# ====== Load model & tokenizer ======\n",
    "print(\"Loading model and tokenizer...\\n\")\n",
    "\n",
    "task = \"sentiment\"\n",
    "MODEL = f\"cardiffnlp/twitter-roberta-base-{task}\"\n",
    "tokenizer = AutoTokenizer.from_pretrained(MODEL)\n",
    "model = AutoModelForSequenceClassification.from_pretrained(MODEL)\n",
    "model.to(\"cuda\" if torch.cuda.is_available() else \"cpu\")\n",
    "model.eval()\n",
    "\n",
    "print(\"Test prompt:\\n\")\n",
    "# -----------------------------\n",
    "# Load model + tokenizer on GPU\n",
    "# -----------------------------\n",
    "device = 0 if torch.cuda.is_available() else -1\n",
    "print(\"Using device:\", \"GPU\" if device == 0 else \"CPU\")\n",
    "\n",
    "# ====== Example: load your dataset (replace with your file) ======\n",
    "# Let's assume you have a CSV with a 'textOriginal' column\n",
    "df = df_top_comments.copy()\n",
    "texts = df[\"textOriginal\"].astype(str).tolist()\n",
    "\n",
    "# ====== Dataset Class ======\n",
    "class CommentDataset(Dataset):\n",
    "    def __init__(self, texts, tokenizer, max_len=128):\n",
    "        self.texts = texts\n",
    "        self.tokenizer = tokenizer\n",
    "        self.max_len = max_len\n",
    "\n",
    "    def __len__(self):\n",
    "        return len(self.texts)\n",
    "\n",
    "    def __getitem__(self, idx):\n",
    "        text = self.texts[idx]\n",
    "        encoding = self.tokenizer(\n",
    "            text,\n",
    "            truncation=True,\n",
    "            padding=\"max_length\",\n",
    "            max_length=self.max_len,\n",
    "            return_tensors=\"pt\"\n",
    "        )\n",
    "        return {key: val.squeeze(0) for key, val in encoding.items()}\n",
    "\n",
    "# ====== DataLoader for batching ======\n",
    "dataset = CommentDataset(texts, tokenizer)\n",
    "dataloader = DataLoader(dataset, batch_size=32, shuffle=False)\n",
    "\n",
    "# ====== Inference with probabilities ======\n",
    "all_preds = []\n",
    "all_probs = []\n",
    "\n",
    "device = \"cuda\" if torch.cuda.is_available() else \"cpu\"\n",
    "start_time = time.time()  # start timer\n",
    "\n",
    "with torch.no_grad():\n",
    "    for i, batch in enumerate(tqdm(dataloader, desc=\"Processing\"), 1):\n",
    "        batch = {k: v.to(device) for k, v in batch.items()}\n",
    "        outputs = model(**batch)\n",
    "        probs = torch.softmax(outputs.logits, dim=-1)\n",
    "        preds = torch.argmax(probs, dim=-1)\n",
    "\n",
    "        all_preds.extend(preds.cpu().numpy())\n",
    "        all_probs.extend(probs.cpu().numpy())\n",
    "\n",
    "        # ETA logging every 100 batches\n",
    "        if i % 100 == 0:\n",
    "            elapsed = time.time() - start_time\n",
    "            avg_time_per_batch = elapsed / i\n",
    "            remaining_batches = len(dataloader) - i\n",
    "            eta = remaining_batches * avg_time_per_batch\n",
    "            eta_formatted = format_time(eta)\n",
    "            print(f\"[Batch {i}/{len(dataloader)}] ETA: {eta_formatted}\")\n",
    "\n",
    "# ====== Append results into original dataframe ======\n",
    "df[\"prediction\"] = all_preds\n",
    "df[\"probability\"] = [list(p) for p in all_probs]  # keep full probability vector\n",
    "\n",
    "# ====== Save results ======\n",
    "df.to_csv(\"sentiment_results.csv\", index=False)\n",
    "print(\"Saved sentiment_results.csv ✅\")\n"
   ]
  },
  {
   "cell_type": "markdown",
   "id": "e108f1ec",
   "metadata": {},
   "source": [
    "filter more (single words)"
   ]
  },
  {
   "cell_type": "code",
   "execution_count": null,
   "id": "cd530850",
   "metadata": {},
   "outputs": [],
   "source": []
  }
 ],
 "metadata": {
  "kernelspec": {
   "display_name": "Python 3",
   "language": "python",
   "name": "python3"
  },
  "language_info": {
   "codemirror_mode": {
    "name": "ipython",
    "version": 3
   },
   "file_extension": ".py",
   "mimetype": "text/x-python",
   "name": "python",
   "nbconvert_exporter": "python",
   "pygments_lexer": "ipython3",
   "version": "3.12.9"
  }
 },
 "nbformat": 4,
 "nbformat_minor": 5
}
